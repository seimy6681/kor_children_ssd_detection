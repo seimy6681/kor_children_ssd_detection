{
 "cells": [
  {
   "cell_type": "markdown",
   "id": "a92d2d9b",
   "metadata": {},
   "source": [
    "https://docs.pytorch.org/audio/stable/tutorials/forced_alignment_tutorial.html"
   ]
  },
  {
   "cell_type": "code",
   "execution_count": 31,
   "id": "a3d3fc68",
   "metadata": {},
   "outputs": [],
   "source": [
    "from transformers import Wav2Vec2ForCTC, Wav2Vec2Processor\n",
    "import torchaudio\n",
    "import librosa\n",
    "import torch\n",
    "from dataclasses import dataclass\n",
    "import matplotlib.pyplot as plt\n",
    "import os\n",
    "import soundfile as sf"
   ]
  },
  {
   "cell_type": "code",
   "execution_count": 32,
   "id": "410ce3b2",
   "metadata": {},
   "outputs": [],
   "source": [
    "device = torch.device(\"cuda\" if torch.cuda.is_available() else \"cpu\")"
   ]
  },
  {
   "cell_type": "code",
   "execution_count": 33,
   "id": "fa1b0c23",
   "metadata": {},
   "outputs": [
    {
     "name": "stderr",
     "output_type": "stream",
     "text": [
      "Special tokens have been added in the vocabulary, make sure the associated word embeddings are fine-tuned or trained.\n"
     ]
    }
   ],
   "source": [
    "model_path = \"/data/selinawisco/spring/0421_baseline_44\"\n",
    "model = Wav2Vec2ForCTC.from_pretrained(model_path).eval()\n",
    "processor = Wav2Vec2Processor.from_pretrained(model_path)"
   ]
  },
  {
   "cell_type": "code",
   "execution_count": 34,
   "id": "be27aafb",
   "metadata": {},
   "outputs": [],
   "source": [
    "# align 할 샘플 음성 \n",
    "audio_path = \"/data/selinawisco/kochild/APAC/일반아동/일반_clear/1_594_2_10_10_0_APAC/1_594_2_10_10_0_APAC_11.wav\"\n",
    "# audio_path = \"/data/selinawisco/kochild/APAC/일반아동/일반_clear/1_205_1_9_10_0_APAC/1_205_1_9_10_0_APAC_21.wav\"\n",
    "# audio_path = \"/data/selinawisco/kochild/APAC/일반아동/일반_clear/1_326_2_9_10_0_APAC/1_326_2_9_10_0_APAC_33.wav\"\n",
    "# audio_path = \"/data/selinawisco/kochild/APAC_25_word/TD/boys/4세/1_278_1_6_9_0_APAC_37_사자.wav\""
   ]
  },
  {
   "cell_type": "code",
   "execution_count": 35,
   "id": "23bc6e96",
   "metadata": {},
   "outputs": [],
   "source": [
    "audio, sampling_rate = librosa.load(audio_path, sr=16000)\n",
    "    \n",
    "input_values = processor(audio, sampling_rate=16000, return_tensors=\"pt\").input_values.to(device)\n"
   ]
  },
  {
   "cell_type": "code",
   "execution_count": 36,
   "id": "7b1742e5",
   "metadata": {},
   "outputs": [],
   "source": [
    "vocab_dict = processor.tokenizer.get_vocab()  # {token: id}\n",
    "id_to_token = {v: k for k, v in vocab_dict.items()}\n",
    "# sorted(vocab_dict.keys())"
   ]
  },
  {
   "cell_type": "code",
   "execution_count": 37,
   "id": "b760fe05",
   "metadata": {},
   "outputs": [
    {
     "data": {
      "text/plain": [
       "[('ㅅ', 13),\n",
       " ('ㅐ', 6),\n",
       " ('ㄱ', 41),\n",
       " ('ㅈ', 0),\n",
       " ('ㅗ', 39),\n",
       " ('ㅇ', 36),\n",
       " ('ㅇ', 36),\n",
       " ('ㅣ', 28)]"
      ]
     },
     "execution_count": 37,
     "metadata": {},
     "output_type": "execute_result"
    }
   ],
   "source": [
    "transcript = list(\"ㅅㅐㄱㅈㅗㅇㅇㅣ\")\n",
    "# transcript = list(\"ㅅㅏㅈㅏ\")\n",
    "tokens = [vocab_dict[c] for c in transcript if c in vocab_dict]\n",
    "\n",
    "list(zip(transcript, tokens))"
   ]
  },
  {
   "cell_type": "code",
   "execution_count": 38,
   "id": "4c2b7930",
   "metadata": {},
   "outputs": [
    {
     "data": {
      "text/plain": [
       "torch.Size([45, 46])"
      ]
     },
     "execution_count": 38,
     "metadata": {},
     "output_type": "execute_result"
    }
   ],
   "source": [
    "with torch.no_grad():\n",
    "    inputs = processor(input_values.squeeze(), return_tensors=\"pt\", sampling_rate=16000)\n",
    "    logits = model(**inputs).logits\n",
    "    # emissions = torch.log_softmax(logits, dim=-1)[0]\n",
    "    emissions = torch.log_softmax(logits / 1.5, dim=-1)[0]\n",
    "emissions.shape # timesteps, vocab_size"
   ]
  },
  {
   "cell_type": "code",
   "execution_count": 39,
   "id": "91c898ec",
   "metadata": {},
   "outputs": [
    {
     "data": {
      "image/png": "[encoded data removed]",
      "text/plain": [
       "<Figure size 640x480 with 2 Axes>"
      ]
     },
     "metadata": {},
     "output_type": "display_data"
    }
   ],
   "source": [
    "def plot():\n",
    "    fig, ax = plt.subplots()\n",
    "    img = ax.imshow(emissions.T)\n",
    "    ax.set_title(\"Frame-wise class probability\")\n",
    "    ax.set_xlabel(\"Time\")\n",
    "    ax.set_ylabel(\"Labels\")\n",
    "    fig.colorbar(img, ax=ax, shrink=0.6, location=\"bottom\")\n",
    "    fig.tight_layout()\n",
    "\n",
    "\n",
    "plot()"
   ]
  },
  {
   "cell_type": "code",
   "execution_count": 40,
   "id": "df9367ba",
   "metadata": {},
   "outputs": [
    {
     "data": {
      "text/plain": [
       "tensor([[   0.0000,      -inf,      -inf,      -inf,      -inf,      -inf,\n",
       "              -inf,      -inf],\n",
       "        [ -11.8814,   -6.8565,      -inf,      -inf,      -inf,      -inf,\n",
       "              -inf,      -inf],\n",
       "        [ -23.8084,  -18.7380,  -16.8828,      -inf,      -inf,      -inf,\n",
       "              -inf,      -inf],\n",
       "        [ -35.7566,  -30.6649,  -28.8098,  -28.8098,      -inf,      -inf,\n",
       "              -inf,      -inf],\n",
       "        [ -47.5886,  -42.6132,  -40.7580,  -40.7580,  -41.0406,      -inf,\n",
       "              -inf,      -inf],\n",
       "        [ -57.6394,  -54.4452,  -52.5900,  -52.5900,  -52.8726,  -51.3388,\n",
       "              -inf,      -inf],\n",
       "        [ -69.1273,  -57.7131,  -62.6408,  -62.6408,  -60.1915,  -61.3896,\n",
       "          -63.0061,      -inf],\n",
       "        [ -80.4972,  -69.2009,  -67.5622,  -74.1286,  -71.6794,  -69.6406,\n",
       "          -70.8386,  -75.1676],\n",
       "        [ -92.1680,  -80.5709,  -78.9322,  -78.9322,  -83.0493,  -81.0106,\n",
       "          -79.1133,  -82.9819],\n",
       "        [-104.3175,  -92.2416,  -90.4330,  -90.6029,  -91.9204,  -92.6813,\n",
       "          -90.7840,  -91.4587],\n",
       "        [-116.0391, -104.3911, -102.2335, -102.5825, -103.8562, -101.9972,\n",
       "         -102.7580, -103.3871],\n",
       "        [-128.9258, -116.1128, -113.9261, -113.9551, -115.5779, -113.0497,\n",
       "         -111.1907, -115.1088],\n",
       "        [-138.8127, -128.9995, -124.9217, -126.8128, -127.8669, -125.8233,\n",
       "         -123.2951, -123.3439],\n",
       "        [-145.1776, -138.8864, -132.8260, -134.8085, -137.7538, -135.7102,\n",
       "         -133.1820, -133.2307],\n",
       "        [-155.5853, -145.2513, -139.1299, -139.1909, -144.1186, -142.0751,\n",
       "         -139.5469, -139.5956],\n",
       "        [-166.1100, -155.6590, -149.5376, -149.5376, -150.5987, -152.4828,\n",
       "         -149.9546, -150.0033],\n",
       "        [-176.8514, -166.1837, -160.0623, -160.0623, -160.5769, -161.6004,\n",
       "         -160.4793, -160.3634],\n",
       "        [-187.6498, -176.9251, -170.8038, -170.8038, -171.1182, -171.6459,\n",
       "         -171.2207, -170.8944],\n",
       "        [-198.2718, -187.7235, -181.6021, -181.6021, -181.8316, -182.1678,\n",
       "         -182.0191, -181.6342],\n",
       "        [-208.8857, -198.3455, -192.2241, -192.2241, -192.2806, -192.7898,\n",
       "         -192.6411, -192.2562],\n",
       "        [-219.5466, -208.9594, -202.8381, -202.8381, -202.8945, -203.0508,\n",
       "         -203.2551, -202.8701],\n",
       "        [-230.0172, -219.6203, -213.4990, -213.4990, -213.5555, -213.4967,\n",
       "         -213.6530, -213.5310],\n",
       "        [-240.3854, -230.0909, -223.9695, -223.9695, -224.0260, -223.9673,\n",
       "         -224.0835, -224.0015],\n",
       "        [-241.1279, -240.4591, -234.3378, -234.3378, -234.3943, -234.3356,\n",
       "         -234.3147, -234.3698],\n",
       "        [-251.2651, -241.2016, -235.0803, -235.0803, -235.1367, -235.0780,\n",
       "         -235.0572, -235.1123],\n",
       "        [-261.7867, -251.3388, -245.2174, -245.2174, -245.2739, -244.6330,\n",
       "         -244.5743, -245.2495],\n",
       "        [-272.7037, -261.8603, -255.7390, -255.7390, -255.5477, -253.3561,\n",
       "         -252.7152, -255.7710],\n",
       "        [-284.1487, -272.7774, -266.6560, -266.6560, -266.4648, -263.7216,\n",
       "         -261.5300, -265.0715],\n",
       "        [-293.0785, -284.2224, -278.1010, -278.1010, -276.9865, -274.7753,\n",
       "         -272.0321, -274.0565],\n",
       "        [-305.6286, -293.1522, -287.0308, -287.0308, -278.1566, -283.7051,\n",
       "         -280.9619, -280.3753],\n",
       "        [-316.0238, -305.7023, -299.5809, -299.5809, -290.7068, -285.2663,\n",
       "         -290.8147, -292.8851],\n",
       "        [-324.8340, -316.0975, -309.9761, -309.9761, -301.1020, -292.9693,\n",
       "         -287.5288, -299.7730],\n",
       "        [-337.5149, -324.9077, -318.7863, -318.7863, -309.9122, -301.2192,\n",
       "         -293.0865, -296.8828],\n",
       "        [-350.1786, -337.5886, -331.4673, -331.4673, -322.5931, -313.9001,\n",
       "         -305.7674, -301.7144],\n",
       "        [-362.3679, -350.2523, -344.1310, -344.1310, -335.2568, -326.5638,\n",
       "         -318.4311, -314.3781],\n",
       "        [-374.5300, -362.4416, -356.3202, -356.3202, -347.4461, -338.7531,\n",
       "         -330.6204, -326.5674],\n",
       "        [-386.7512, -374.6037, -368.4824, -368.4824, -359.6082, -350.9152,\n",
       "         -342.7825, -338.7295],\n",
       "        [-393.2238, -386.8249, -380.7035, -380.7035, -371.8293, -363.1363,\n",
       "         -355.0036, -350.9507],\n",
       "        [      inf, -393.2975, -387.1761, -387.1761, -378.3019, -369.6089,\n",
       "         -361.4762, -357.4232],\n",
       "        [      inf,       inf, -398.9987, -398.9987, -390.1245, -381.4315,\n",
       "         -373.2988, -369.2458],\n",
       "        [      inf,       inf,       inf, -411.4040, -402.5298, -393.8368,\n",
       "         -385.7041, -381.6511],\n",
       "        [      inf,       inf,       inf,       inf, -412.7006, -404.0076,\n",
       "         -395.8749, -385.7945],\n",
       "        [      inf,       inf,       inf,       inf,       inf, -416.2712,\n",
       "         -408.1385, -398.0581],\n",
       "        [      inf,       inf,       inf,       inf,       inf,       inf,\n",
       "         -420.4387, -410.3582],\n",
       "        [      inf,       inf,       inf,       inf,       inf,       inf,\n",
       "               inf, -422.7993]])"
      ]
     },
     "execution_count": 40,
     "metadata": {},
     "output_type": "execute_result"
    }
   ],
   "source": [
    "def get_trellis(emission, tokens, blank_id=0):\n",
    "    num_frame = emission.size(0)\n",
    "    num_tokens = len(tokens)\n",
    "\n",
    "    trellis = torch.zeros((num_frame, num_tokens))\n",
    "    trellis[1:, 0] = torch.cumsum(emission[1:, blank_id], 0)\n",
    "    trellis[0, 1:] = -float(\"inf\")\n",
    "    trellis[-num_tokens + 1 :, 0] = float(\"inf\")\n",
    "\n",
    "    for t in range(num_frame - 1):\n",
    "        trellis[t + 1, 1:] = torch.maximum(\n",
    "            # Score for staying at the same token\n",
    "            trellis[t, 1:] + emission[t, blank_id],\n",
    "            # Score for changing to the next token\n",
    "            trellis[t, :-1] + emission[t, tokens[1:]],\n",
    "        )\n",
    "    return trellis\n",
    "\n",
    "\n",
    "trellis = get_trellis(emissions, tokens)\n",
    "trellis"
   ]
  },
  {
   "cell_type": "code",
   "execution_count": 41,
   "id": "9d52de7f",
   "metadata": {},
   "outputs": [
    {
     "name": "stdout",
     "output_type": "stream",
     "text": [
      "Point(token_index=0, time_index=0, score=0.0034628305584192276)\n",
      "Point(token_index=0, time_index=1, score=6.917603968759067e-06)\n",
      "Point(token_index=0, time_index=2, score=6.609755928366212e-06)\n",
      "Point(token_index=0, time_index=3, score=6.470689640991623e-06)\n",
      "Point(token_index=0, time_index=4, score=7.268194622156443e-06)\n",
      "Point(token_index=0, time_index=5, score=0.9289659261703491)\n",
      "Point(token_index=1, time_index=6, score=1.0254323569824919e-05)\n",
      "Point(token_index=1, time_index=7, score=1.1536571037140675e-05)\n",
      "Point(token_index=1, time_index=8, score=8.54030076880008e-06)\n",
      "Point(token_index=1, time_index=9, score=5.291033176035853e-06)\n",
      "Point(token_index=1, time_index=10, score=8.116086064546835e-06)\n",
      "Point(token_index=1, time_index=11, score=2.5314511731266975e-06)\n",
      "Point(token_index=1, time_index=12, score=5.0837217713706195e-05)\n",
      "Point(token_index=1, time_index=13, score=0.7838906645774841)\n",
      "Point(token_index=2, time_index=14, score=3.0198316380847245e-05)\n",
      "Point(token_index=3, time_index=15, score=2.6865316613111645e-05)\n",
      "Point(token_index=3, time_index=16, score=2.1629071852657944e-05)\n",
      "Point(token_index=3, time_index=17, score=2.0432871679076925e-05)\n",
      "Point(token_index=3, time_index=18, score=2.4373965061386116e-05)\n",
      "Point(token_index=3, time_index=19, score=2.4571154426666908e-05)\n",
      "Point(token_index=3, time_index=20, score=2.3443970349035226e-05)\n",
      "Point(token_index=3, time_index=21, score=2.836036219378002e-05)\n",
      "Point(token_index=3, time_index=22, score=3.1412902899319306e-05)\n",
      "Point(token_index=3, time_index=23, score=0.47592484951019287)\n",
      "Point(token_index=3, time_index=24, score=3.958149318350479e-05)\n",
      "Point(token_index=3, time_index=25, score=2.694925387913827e-05)\n",
      "Point(token_index=3, time_index=26, score=1.8145818103221245e-05)\n",
      "Point(token_index=3, time_index=27, score=1.070320558937965e-05)\n",
      "Point(token_index=3, time_index=28, score=0.94588303565979)\n",
      "Point(token_index=4, time_index=29, score=3.544516175679746e-06)\n",
      "Point(token_index=4, time_index=30, score=0.10408749431371689)\n",
      "Point(token_index=5, time_index=31, score=0.8893810510635376)\n",
      "Point(token_index=6, time_index=32, score=3.1099543775781058e-06)\n",
      "Point(token_index=6, time_index=33, score=3.1639460758015048e-06)\n",
      "Point(token_index=6, time_index=34, score=5.084664735477418e-06)\n",
      "Point(token_index=6, time_index=35, score=5.224600499786902e-06)\n",
      "Point(token_index=6, time_index=36, score=4.925313078274485e-06)\n",
      "Point(token_index=6, time_index=37, score=0.0015452185180038214)\n",
      "Point(token_index=6, time_index=38, score=7.336994258366758e-06)\n",
      "Point(token_index=6, time_index=39, score=4.096813427167945e-06)\n",
      "Point(token_index=6, time_index=40, score=0.9135806560516357)\n",
      "Point(token_index=7, time_index=41, score=4.7202174755511805e-06)\n",
      "Point(token_index=7, time_index=42, score=4.551214260573033e-06)\n",
      "Point(token_index=7, time_index=43, score=3.952749466407113e-06)\n",
      "Point(token_index=7, time_index=44, score=3.87084401154425e-06)\n"
     ]
    }
   ],
   "source": [
    "@dataclass\n",
    "class Point:\n",
    "    token_index: int\n",
    "    time_index: int\n",
    "    score: float\n",
    "\n",
    "\n",
    "def backtrack(trellis, emission, tokens, blank_id=0):\n",
    "    t, j = trellis.size(0) - 1, trellis.size(1) - 1\n",
    "\n",
    "    path = [Point(j, t, emission[t, blank_id].exp().item())]\n",
    "    while j > 0:\n",
    "        # Should not happen but just in case\n",
    "        assert t > 0\n",
    "\n",
    "        # 1. Figure out if the current position was stay or change\n",
    "        # Frame-wise score of stay vs change\n",
    "        p_stay = emission[t - 1, blank_id]\n",
    "        p_change = emission[t - 1, tokens[j]]\n",
    "\n",
    "        # Context-aware score for stay vs change\n",
    "        stayed = trellis[t - 1, j] + p_stay\n",
    "        changed = trellis[t - 1, j - 1] + p_change\n",
    "\n",
    "        # Update position\n",
    "        t -= 1\n",
    "        if changed > stayed:\n",
    "            j -= 1\n",
    "\n",
    "        # Store the path with frame-wise probability.\n",
    "        prob = (p_change if changed > stayed else p_stay).exp().item()\n",
    "        path.append(Point(j, t, prob))\n",
    "\n",
    "    # Now j == 0, which means, it reached the SoS.\n",
    "    # Fill up the rest for the sake of visualization\n",
    "    while t > 0:\n",
    "        prob = emission[t - 1, blank_id].exp().item()\n",
    "        path.append(Point(j, t - 1, prob))\n",
    "        t -= 1\n",
    "\n",
    "    return path[::-1]\n",
    "\n",
    "\n",
    "path = backtrack(trellis, emissions, tokens)\n",
    "for p in path:\n",
    "    print(p)"
   ]
  },
  {
   "cell_type": "code",
   "execution_count": 42,
   "id": "024f94c2",
   "metadata": {},
   "outputs": [
    {
     "data": {
      "image/png": "[encoded data removed]",
      "text/plain": [
       "<Figure size 640x480 with 1 Axes>"
      ]
     },
     "metadata": {},
     "output_type": "display_data"
    }
   ],
   "source": [
    "def plot_trellis_with_path(trellis, path):\n",
    "    # To plot trellis with path, we take advantage of 'nan' value\n",
    "    trellis_with_path = trellis.clone()\n",
    "    for _, p in enumerate(path):\n",
    "        trellis_with_path[p.time_index, p.token_index] = float(\"nan\")\n",
    "    plt.imshow(trellis_with_path.T, origin=\"lower\")\n",
    "    plt.title(\"The path found by backtracking\")\n",
    "    plt.tight_layout()\n",
    "\n",
    "\n",
    "plot_trellis_with_path(trellis, path)"
   ]
  },
  {
   "cell_type": "code",
   "execution_count": 43,
   "id": "e6baec28",
   "metadata": {},
   "outputs": [
    {
     "name": "stdout",
     "output_type": "stream",
     "text": [
      "ㅅ\t(0.16): [    0,     6)\n",
      "ㅐ\t(0.10): [    6,    14)\n",
      "ㄱ\t(0.00): [   14,    15)\n",
      "ㅈ\t(0.10): [   15,    29)\n",
      "ㅗ\t(0.05): [   29,    31)\n",
      "ㅇ\t(0.89): [   31,    32)\n",
      "ㅇ\t(0.10): [   32,    41)\n",
      "ㅣ\t(0.00): [   41,    45)\n"
     ]
    }
   ],
   "source": [
    "# Merge the labels\n",
    "@dataclass\n",
    "class Segment:\n",
    "    label: str\n",
    "    start: int\n",
    "    end: int\n",
    "    score: float\n",
    "\n",
    "    def __repr__(self):\n",
    "        return f\"{self.label}\\t({self.score:4.2f}): [{self.start:5d}, {self.end:5d})\"\n",
    "\n",
    "    @property\n",
    "    def length(self):\n",
    "        return self.end - self.start\n",
    "\n",
    "\n",
    "def merge_repeats(path):\n",
    "    i1, i2 = 0, 0\n",
    "    segments = []\n",
    "    while i1 < len(path):\n",
    "        while i2 < len(path) and path[i1].token_index == path[i2].token_index:\n",
    "            i2 += 1\n",
    "        score = sum(path[k].score for k in range(i1, i2)) / (i2 - i1)\n",
    "        segments.append(\n",
    "            Segment(\n",
    "                transcript[path[i1].token_index],\n",
    "                path[i1].time_index,\n",
    "                path[i2 - 1].time_index + 1,\n",
    "                score,\n",
    "            )\n",
    "        )\n",
    "        i1 = i2\n",
    "    return segments\n",
    "\n",
    "\n",
    "segments = merge_repeats(path)\n",
    "for seg in segments:\n",
    "    print(seg)"
   ]
  },
  {
   "cell_type": "code",
   "execution_count": 44,
   "id": "1b14f0e5",
   "metadata": {},
   "outputs": [],
   "source": [
    "def frame_to_sample(frame_idx, total_frames, total_samples):\n",
    "    return int((frame_idx / total_frames) * total_samples)"
   ]
  },
  {
   "cell_type": "code",
   "execution_count": 45,
   "id": "65015436",
   "metadata": {},
   "outputs": [],
   "source": [
    "\n",
    "# Make sure audio is a 1D NumPy array or 1-channel Torch tensor\n",
    "if isinstance(audio, torch.Tensor):\n",
    "    audio_np = audio.squeeze().cpu().numpy()\n",
    "else:\n",
    "    audio_np = audio\n",
    "\n",
    "# Set up output directory\n",
    "output_dir = f\"segments/{transcript}\"\n",
    "os.makedirs(output_dir, exist_ok=True)\n",
    "\n",
    "total_frames = emissions.shape[1] if emissions.ndim == 3 else emissions.shape[0]\n",
    "total_samples = len(audio_np)\n",
    "\n",
    "for idx, seg in enumerate(segments):\n",
    "    start_sample = frame_to_sample(seg.start, total_frames, total_samples)\n",
    "    end_sample = frame_to_sample(seg.end, total_frames, total_samples)\n",
    "\n",
    "    segment_audio = audio_np[start_sample:end_sample]\n",
    "    filename = f\"{output_dir}/{seg.label}_{idx}_{seg.start}_{seg.end}.wav\"\n",
    "    sf.write(filename, segment_audio, 16000)"
   ]
  },
  {
   "cell_type": "code",
   "execution_count": 46,
   "id": "ee5c0c61",
   "metadata": {},
   "outputs": [
    {
     "name": "stderr",
     "output_type": "stream",
     "text": [
      "/tmp/ipykernel_3364594/3139461363.py:38: UserWarning: Glyph 12624 (\\N{HANGUL LETTER AE}) missing from current font.\n",
      "  fig.tight_layout()\n",
      "/tmp/ipykernel_3364594/3139461363.py:38: UserWarning: Glyph 12593 (\\N{HANGUL LETTER KIYEOK}) missing from current font.\n",
      "  fig.tight_layout()\n",
      "/tmp/ipykernel_3364594/3139461363.py:38: UserWarning: Glyph 12616 (\\N{HANGUL LETTER CIEUC}) missing from current font.\n",
      "  fig.tight_layout()\n",
      "/tmp/ipykernel_3364594/3139461363.py:38: UserWarning: Glyph 12631 (\\N{HANGUL LETTER O}) missing from current font.\n",
      "  fig.tight_layout()\n",
      "/tmp/ipykernel_3364594/3139461363.py:38: UserWarning: Glyph 12615 (\\N{HANGUL LETTER IEUNG}) missing from current font.\n",
      "  fig.tight_layout()\n",
      "/tmp/ipykernel_3364594/3139461363.py:38: UserWarning: Glyph 12643 (\\N{HANGUL LETTER I}) missing from current font.\n",
      "  fig.tight_layout()\n",
      "/tmp/ipykernel_3364594/3139461363.py:38: UserWarning: Glyph 12613 (\\N{HANGUL LETTER SIOS}) missing from current font.\n",
      "  fig.tight_layout()\n",
      "/home/selinawisco/anaconda3/envs/asr/lib/python3.10/site-packages/IPython/core/events.py:82: UserWarning: Glyph 12624 (\\N{HANGUL LETTER AE}) missing from current font.\n",
      "  func(*args, **kwargs)\n",
      "/home/selinawisco/anaconda3/envs/asr/lib/python3.10/site-packages/IPython/core/events.py:82: UserWarning: Glyph 12593 (\\N{HANGUL LETTER KIYEOK}) missing from current font.\n",
      "  func(*args, **kwargs)\n",
      "/home/selinawisco/anaconda3/envs/asr/lib/python3.10/site-packages/IPython/core/events.py:82: UserWarning: Glyph 12616 (\\N{HANGUL LETTER CIEUC}) missing from current font.\n",
      "  func(*args, **kwargs)\n",
      "/home/selinawisco/anaconda3/envs/asr/lib/python3.10/site-packages/IPython/core/events.py:82: UserWarning: Glyph 12631 (\\N{HANGUL LETTER O}) missing from current font.\n",
      "  func(*args, **kwargs)\n",
      "/home/selinawisco/anaconda3/envs/asr/lib/python3.10/site-packages/IPython/core/events.py:82: UserWarning: Glyph 12615 (\\N{HANGUL LETTER IEUNG}) missing from current font.\n",
      "  func(*args, **kwargs)\n",
      "/home/selinawisco/anaconda3/envs/asr/lib/python3.10/site-packages/IPython/core/events.py:82: UserWarning: Glyph 12643 (\\N{HANGUL LETTER I}) missing from current font.\n",
      "  func(*args, **kwargs)\n",
      "/home/selinawisco/anaconda3/envs/asr/lib/python3.10/site-packages/IPython/core/events.py:82: UserWarning: Glyph 12613 (\\N{HANGUL LETTER SIOS}) missing from current font.\n",
      "  func(*args, **kwargs)\n",
      "/home/selinawisco/anaconda3/envs/asr/lib/python3.10/site-packages/IPython/core/pylabtools.py:170: UserWarning: Glyph 12624 (\\N{HANGUL LETTER AE}) missing from current font.\n",
      "  fig.canvas.print_figure(bytes_io, **kw)\n",
      "/home/selinawisco/anaconda3/envs/asr/lib/python3.10/site-packages/IPython/core/pylabtools.py:170: UserWarning: Glyph 12593 (\\N{HANGUL LETTER KIYEOK}) missing from current font.\n",
      "  fig.canvas.print_figure(bytes_io, **kw)\n",
      "/home/selinawisco/anaconda3/envs/asr/lib/python3.10/site-packages/IPython/core/pylabtools.py:170: UserWarning: Glyph 12616 (\\N{HANGUL LETTER CIEUC}) missing from current font.\n",
      "  fig.canvas.print_figure(bytes_io, **kw)\n",
      "/home/selinawisco/anaconda3/envs/asr/lib/python3.10/site-packages/IPython/core/pylabtools.py:170: UserWarning: Glyph 12631 (\\N{HANGUL LETTER O}) missing from current font.\n",
      "  fig.canvas.print_figure(bytes_io, **kw)\n",
      "/home/selinawisco/anaconda3/envs/asr/lib/python3.10/site-packages/IPython/core/pylabtools.py:170: UserWarning: Glyph 12615 (\\N{HANGUL LETTER IEUNG}) missing from current font.\n",
      "  fig.canvas.print_figure(bytes_io, **kw)\n",
      "/home/selinawisco/anaconda3/envs/asr/lib/python3.10/site-packages/IPython/core/pylabtools.py:170: UserWarning: Glyph 12643 (\\N{HANGUL LETTER I}) missing from current font.\n",
      "  fig.canvas.print_figure(bytes_io, **kw)\n",
      "/home/selinawisco/anaconda3/envs/asr/lib/python3.10/site-packages/IPython/core/pylabtools.py:170: UserWarning: Glyph 12613 (\\N{HANGUL LETTER SIOS}) missing from current font.\n",
      "  fig.canvas.print_figure(bytes_io, **kw)\n"
     ]
    },
    {
     "data": {
      "image/png": "[encoded data removed]",
      "text/plain": [
       "<Figure size 640x480 with 2 Axes>"
      ]
     },
     "metadata": {},
     "output_type": "display_data"
    }
   ],
   "source": [
    "def plot_trellis_with_segments(trellis, segments, transcript):\n",
    "    # To plot trellis with path, we take advantage of 'nan' value\n",
    "    trellis_with_path = trellis.clone()\n",
    "    for i, seg in enumerate(segments):\n",
    "        if seg.label != \"|\":\n",
    "            trellis_with_path[seg.start : seg.end, i] = float(\"nan\")\n",
    "\n",
    "    fig, [ax1, ax2] = plt.subplots(2, 1, sharex=True)\n",
    "    ax1.set_title(\"Path, label and probability for each label\")\n",
    "    ax1.imshow(trellis_with_path.T, origin=\"lower\", aspect=\"auto\")\n",
    "\n",
    "    for i, seg in enumerate(segments):\n",
    "        if seg.label != \"|\":\n",
    "            ax1.annotate(seg.label, (seg.start, i - 0.7), size=\"small\")\n",
    "            ax1.annotate(f\"{seg.score:.2f}\", (seg.start, i + 3), size=\"small\")\n",
    "\n",
    "    ax2.set_title(\"Label probability with and without repetation\")\n",
    "    xs, hs, ws = [], [], []\n",
    "    for seg in segments:\n",
    "        if seg.label != \"|\":\n",
    "            xs.append((seg.end + seg.start) / 2 + 0.4)\n",
    "            hs.append(seg.score)\n",
    "            ws.append(seg.end - seg.start)\n",
    "            ax2.annotate(seg.label, (seg.start + 0.8, -0.07))\n",
    "    ax2.bar(xs, hs, width=ws, color=\"gray\", alpha=0.5, edgecolor=\"black\")\n",
    "\n",
    "    xs, hs = [], []\n",
    "    for p in path:\n",
    "        label = transcript[p.token_index]\n",
    "        if label != \"|\":\n",
    "            xs.append(p.time_index + 1)\n",
    "            hs.append(p.score)\n",
    "\n",
    "    ax2.bar(xs, hs, width=0.5, alpha=0.5)\n",
    "    ax2.axhline(0, color=\"black\")\n",
    "    ax2.grid(True, axis=\"y\")\n",
    "    ax2.set_ylim(-0.1, 1.1)\n",
    "    fig.tight_layout()\n",
    "\n",
    "\n",
    "plot_trellis_with_segments(trellis, segments, transcript)"
   ]
  }
 ],
 "metadata": {
  "kernelspec": {
   "display_name": "asr",
   "language": "python",
   "name": "python3"
  },
  "language_info": {
   "codemirror_mode": {
    "name": "ipython",
    "version": 3
   },
   "file_extension": ".py",
   "mimetype": "text/x-python",
   "name": "python",
   "nbconvert_exporter": "python",
   "pygments_lexer": "ipython3",
   "version": "3.10.14"
  }
 },
 "nbformat": 4,
 "nbformat_minor": 5
}
