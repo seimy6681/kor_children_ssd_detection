{
 "cells": [
  {
   "cell_type": "code",
   "execution_count": 153,
   "id": "a3d3fc68",
   "metadata": {},
   "outputs": [],
   "source": [
    "from transformers import Wav2Vec2ForCTC, Wav2Vec2Processor\n",
    "import torchaudio\n",
    "import librosa\n",
    "import torch\n",
    "from dataclasses import dataclass\n",
    "import matplotlib.pyplot as plt"
   ]
  },
  {
   "cell_type": "code",
   "execution_count": 154,
   "id": "410ce3b2",
   "metadata": {},
   "outputs": [],
   "source": [
    "device = torch.device(\"cuda\" if torch.cuda.is_available() else \"cpu\")\n"
   ]
  },
  {
   "cell_type": "code",
   "execution_count": 155,
   "id": "fa1b0c23",
   "metadata": {},
   "outputs": [
    {
     "name": "stderr",
     "output_type": "stream",
     "text": [
      "Special tokens have been added in the vocabulary, make sure the associated word embeddings are fine-tuned or trained.\n"
     ]
    }
   ],
   "source": [
    "model_path = \"/data/selinawisco/spring/0421_baseline_44\"\n",
    "model = Wav2Vec2ForCTC.from_pretrained(model_path).eval()\n",
    "processor = Wav2Vec2Processor.from_pretrained(model_path)"
   ]
  },
  {
   "cell_type": "code",
   "execution_count": 156,
   "id": "be27aafb",
   "metadata": {},
   "outputs": [],
   "source": [
    "audio_path = \"/data/selinawisco/kochild/APAC/일반아동/일반_clear/1_205_1_9_10_0_APAC/1_205_1_9_10_0_APAC_21.wav\"\n",
    "# audio_path = \"/data/selinawisco/kochild/APAC/일반아동/일반_clear/1_326_2_9_10_0_APAC/1_326_2_9_10_0_APAC_33.wav\"\n",
    "# audio_path = \"/data/selinawisco/kochild/APAC_25_word/TD/boys/4세/1_278_1_6_9_0_APAC_37_사자.wav\"\n"
   ]
  },
  {
   "cell_type": "code",
   "execution_count": 157,
   "id": "23bc6e96",
   "metadata": {},
   "outputs": [],
   "source": [
    "audio, sampling_rate = librosa.load(audio_path, sr=16000)\n",
    "    \n",
    "input_values = processor(audio, sampling_rate=16000, return_tensors=\"pt\").input_values.to(device)\n"
   ]
  },
  {
   "cell_type": "code",
   "execution_count": 158,
   "id": "7b1742e5",
   "metadata": {},
   "outputs": [],
   "source": [
    "vocab_dict = processor.tokenizer.get_vocab()  # {token: id}\n",
    "id_to_token = {v: k for k, v in vocab_dict.items()}\n",
    "# sorted(vocab_dict.keys())"
   ]
  },
  {
   "cell_type": "code",
   "execution_count": 159,
   "id": "b760fe05",
   "metadata": {},
   "outputs": [
    {
     "data": {
      "text/plain": [
       "[('ㅁ', 12), ('ㅓ', 2), ('ㄹ', 27), ('ㅣ', 28)]"
      ]
     },
     "execution_count": 159,
     "metadata": {},
     "output_type": "execute_result"
    }
   ],
   "source": [
    "transcript = list(\"ㅁㅓㄹㅣ\")\n",
    "# transcript = list(\"ㅅㅏㅈㅏ\")\n",
    "tokens = [vocab_dict[c] for c in transcript if c in vocab_dict]\n",
    "\n",
    "list(zip(transcript, tokens))"
   ]
  },
  {
   "cell_type": "code",
   "execution_count": 160,
   "id": "4c2b7930",
   "metadata": {},
   "outputs": [
    {
     "data": {
      "text/plain": [
       "torch.Size([39, 46])"
      ]
     },
     "execution_count": 160,
     "metadata": {},
     "output_type": "execute_result"
    }
   ],
   "source": [
    "with torch.no_grad():\n",
    "    inputs = processor(input_values.squeeze(), return_tensors=\"pt\", sampling_rate=16000)\n",
    "    logits = model(**inputs).logits\n",
    "    # emissions = torch.log_softmax(logits, dim=-1)[0]\n",
    "    emissions = torch.log_softmax(logits / 1.5, dim=-1)[0]\n",
    "emissions.shape # timesteps, vocab_size"
   ]
  },
  {
   "cell_type": "code",
   "execution_count": 161,
   "id": "91c898ec",
   "metadata": {},
   "outputs": [
    {
     "data": {
      "image/png": "[encoded data removed]",
      "text/plain": [
       "<Figure size 640x480 with 2 Axes>"
      ]
     },
     "metadata": {},
     "output_type": "display_data"
    }
   ],
   "source": [
    "def plot():\n",
    "    fig, ax = plt.subplots()\n",
    "    img = ax.imshow(emissions.T)\n",
    "    ax.set_title(\"Frame-wise class probability\")\n",
    "    ax.set_xlabel(\"Time\")\n",
    "    ax.set_ylabel(\"Labels\")\n",
    "    fig.colorbar(img, ax=ax, shrink=0.6, location=\"bottom\")\n",
    "    fig.tight_layout()\n",
    "\n",
    "\n",
    "plot()"
   ]
  },
  {
   "cell_type": "code",
   "execution_count": 162,
   "id": "df9367ba",
   "metadata": {},
   "outputs": [
    {
     "data": {
      "text/plain": [
       "tensor([[   0.0000,      -inf,      -inf,      -inf],\n",
       "        [  -9.8815,   -9.4949,      -inf,      -inf],\n",
       "        [ -19.5590,  -14.2255,  -16.4147,      -inf],\n",
       "        [ -31.6113,  -19.6045,  -22.0059,  -23.7984],\n",
       "        [ -43.3485,  -31.6568,  -28.7263,  -34.7558],\n",
       "        [ -55.3939,  -43.3940,  -40.4636,  -41.5095],\n",
       "        [ -67.3264,  -55.4394,  -52.2623,  -53.3279],\n",
       "        [ -79.2268,  -67.3719,  -64.1686,  -65.1121],\n",
       "        [ -90.3964,  -79.2722,  -75.7740,  -76.9259],\n",
       "        [-101.4847,  -90.4419,  -86.3663,  -88.0955],\n",
       "        [-112.6400, -101.5302,  -97.4546,  -99.1838],\n",
       "        [-124.0717, -112.6855, -108.6099, -110.3391],\n",
       "        [-135.2637, -124.1172, -120.0416, -121.7547],\n",
       "        [-146.3806, -135.3092, -131.2336, -132.9467],\n",
       "        [-157.4757, -146.4261, -142.3505, -143.9771],\n",
       "        [-168.7682, -157.5212, -153.4456, -154.9334],\n",
       "        [-179.9202, -168.8137, -164.7381, -165.9827],\n",
       "        [-191.5466, -179.9657, -175.8901, -177.0688],\n",
       "        [-202.9714, -191.5921, -187.5165, -187.5736],\n",
       "        [-214.8054, -203.0169, -198.8340, -198.1225],\n",
       "        [-226.4016, -214.8509, -210.6680, -209.6114],\n",
       "        [-237.6798, -226.4471, -222.2642, -221.2076],\n",
       "        [-248.8436, -237.7253, -233.5425, -232.4859],\n",
       "        [-260.1898, -248.8891, -244.7062, -243.5309],\n",
       "        [-270.9686, -260.2353, -255.7535, -254.3821],\n",
       "        [-276.8883, -271.0141, -266.1587, -265.1609],\n",
       "        [-286.5453, -276.9338, -271.1328, -271.0807],\n",
       "        [-296.9278, -286.5909, -280.7898, -280.7377],\n",
       "        [-306.9136, -296.9733, -291.1722, -280.8308],\n",
       "        [-317.0656, -306.9591, -301.1581, -290.8166],\n",
       "        [-327.0500, -317.1111, -311.3100, -300.9686],\n",
       "        [-337.0698, -327.0955, -321.2945, -310.9530],\n",
       "        [-346.9127, -337.1152, -331.3142, -320.9727],\n",
       "        [-356.3036, -346.9582, -341.1572, -330.8157],\n",
       "        [-365.4407, -356.3491, -350.5480, -340.2065],\n",
       "        [-374.4091, -365.4862, -359.6852, -349.3437],\n",
       "        [      inf, -374.4546, -368.6536, -358.3121],\n",
       "        [      inf,       inf, -377.9397, -367.5982],\n",
       "        [      inf,       inf,       inf, -376.7964]])"
      ]
     },
     "execution_count": 162,
     "metadata": {},
     "output_type": "execute_result"
    }
   ],
   "source": [
    "def get_trellis(emission, tokens, blank_id=0):\n",
    "    num_frame = emission.size(0)\n",
    "    num_tokens = len(tokens)\n",
    "\n",
    "    trellis = torch.zeros((num_frame, num_tokens))\n",
    "    trellis[1:, 0] = torch.cumsum(emission[1:, blank_id], 0)\n",
    "    trellis[0, 1:] = -float(\"inf\")\n",
    "    trellis[-num_tokens + 1 :, 0] = float(\"inf\")\n",
    "\n",
    "    for t in range(num_frame - 1):\n",
    "        trellis[t + 1, 1:] = torch.maximum(\n",
    "            # Score for staying at the same token\n",
    "            trellis[t, 1:] + emission[t, blank_id],\n",
    "            # Score for changing to the next token\n",
    "            trellis[t, :-1] + emission[t, tokens[1:]],\n",
    "        )\n",
    "    return trellis\n",
    "\n",
    "\n",
    "trellis = get_trellis(emissions, tokens)\n",
    "trellis"
   ]
  },
  {
   "cell_type": "code",
   "execution_count": 163,
   "id": "9d52de7f",
   "metadata": {},
   "outputs": [
    {
     "name": "stdout",
     "output_type": "stream",
     "text": [
      "Point(token_index=0, time_index=0, score=0.00012707154382951558)\n",
      "Point(token_index=0, time_index=1, score=5.111124846735038e-05)\n",
      "Point(token_index=0, time_index=2, score=0.9555248618125916)\n",
      "Point(token_index=1, time_index=3, score=5.831403996126028e-06)\n",
      "Point(token_index=1, time_index=4, score=7.990845006133895e-06)\n",
      "Point(token_index=1, time_index=5, score=5.871476332686143e-06)\n",
      "Point(token_index=1, time_index=6, score=6.572920483449707e-06)\n",
      "Point(token_index=1, time_index=7, score=6.788335213059327e-06)\n",
      "Point(token_index=1, time_index=8, score=1.409599917678861e-05)\n",
      "Point(token_index=1, time_index=9, score=1.5290062947315164e-05)\n",
      "Point(token_index=1, time_index=10, score=1.4299011127150152e-05)\n",
      "Point(token_index=1, time_index=11, score=1.084601171896793e-05)\n",
      "Point(token_index=1, time_index=12, score=1.3783510439679958e-05)\n",
      "Point(token_index=1, time_index=13, score=1.4859702787362039e-05)\n",
      "Point(token_index=1, time_index=14, score=1.5186405107669998e-05)\n",
      "Point(token_index=1, time_index=15, score=1.2465766303648707e-05)\n",
      "Point(token_index=1, time_index=16, score=1.4347311662277207e-05)\n",
      "Point(token_index=1, time_index=17, score=8.927073395170737e-06)\n",
      "Point(token_index=1, time_index=18, score=1.0921315151790623e-05)\n",
      "Point(token_index=1, time_index=19, score=7.253514468175126e-06)\n",
      "Point(token_index=1, time_index=20, score=9.201275133818854e-06)\n",
      "Point(token_index=1, time_index=21, score=1.2644998605537694e-05)\n",
      "Point(token_index=1, time_index=22, score=1.4178767742123455e-05)\n",
      "Point(token_index=1, time_index=23, score=1.1814637218776625e-05)\n",
      "Point(token_index=1, time_index=24, score=2.0836072508245707e-05)\n",
      "Point(token_index=1, time_index=25, score=0.8880776166915894)\n",
      "Point(token_index=2, time_index=26, score=6.397618562914431e-05)\n",
      "Point(token_index=2, time_index=27, score=0.9598401188850403)\n",
      "Point(token_index=3, time_index=28, score=4.604746209224686e-05)\n",
      "Point(token_index=3, time_index=29, score=3.899970033671707e-05)\n",
      "Point(token_index=3, time_index=30, score=4.611144322552718e-05)\n",
      "Point(token_index=3, time_index=31, score=4.451294080354273e-05)\n",
      "Point(token_index=3, time_index=32, score=5.312053326633759e-05)\n",
      "Point(token_index=3, time_index=33, score=8.348414121428505e-05)\n",
      "Point(token_index=3, time_index=34, score=0.00010759273573057726)\n",
      "Point(token_index=3, time_index=35, score=0.00012737291399389505)\n",
      "Point(token_index=3, time_index=36, score=9.269838483305648e-05)\n",
      "Point(token_index=3, time_index=37, score=0.00010122662934008986)\n",
      "Point(token_index=3, time_index=38, score=0.00013349381333682686)\n"
     ]
    }
   ],
   "source": [
    "@dataclass\n",
    "class Point:\n",
    "    token_index: int\n",
    "    time_index: int\n",
    "    score: float\n",
    "\n",
    "\n",
    "def backtrack(trellis, emission, tokens, blank_id=0):\n",
    "    t, j = trellis.size(0) - 1, trellis.size(1) - 1\n",
    "\n",
    "    path = [Point(j, t, emission[t, blank_id].exp().item())]\n",
    "    while j > 0:\n",
    "        # Should not happen but just in case\n",
    "        assert t > 0\n",
    "\n",
    "        # 1. Figure out if the current position was stay or change\n",
    "        # Frame-wise score of stay vs change\n",
    "        p_stay = emission[t - 1, blank_id]\n",
    "        p_change = emission[t - 1, tokens[j]]\n",
    "\n",
    "        # Context-aware score for stay vs change\n",
    "        stayed = trellis[t - 1, j] + p_stay\n",
    "        changed = trellis[t - 1, j - 1] + p_change\n",
    "\n",
    "        # Update position\n",
    "        t -= 1\n",
    "        if changed > stayed:\n",
    "            j -= 1\n",
    "\n",
    "        # Store the path with frame-wise probability.\n",
    "        prob = (p_change if changed > stayed else p_stay).exp().item()\n",
    "        path.append(Point(j, t, prob))\n",
    "\n",
    "    # Now j == 0, which means, it reached the SoS.\n",
    "    # Fill up the rest for the sake of visualization\n",
    "    while t > 0:\n",
    "        prob = emission[t - 1, blank_id].exp().item()\n",
    "        path.append(Point(j, t - 1, prob))\n",
    "        t -= 1\n",
    "\n",
    "    return path[::-1]\n",
    "\n",
    "\n",
    "path = backtrack(trellis, emissions, tokens)\n",
    "for p in path:\n",
    "    print(p)"
   ]
  },
  {
   "cell_type": "code",
   "execution_count": 164,
   "id": "024f94c2",
   "metadata": {},
   "outputs": [
    {
     "data": {
      "image/png": "[encoded data removed]",
      "text/plain": [
       "<Figure size 640x480 with 1 Axes>"
      ]
     },
     "metadata": {},
     "output_type": "display_data"
    }
   ],
   "source": [
    "def plot_trellis_with_path(trellis, path):\n",
    "    # To plot trellis with path, we take advantage of 'nan' value\n",
    "    trellis_with_path = trellis.clone()\n",
    "    for _, p in enumerate(path):\n",
    "        trellis_with_path[p.time_index, p.token_index] = float(\"nan\")\n",
    "    plt.imshow(trellis_with_path.T, origin=\"lower\")\n",
    "    plt.title(\"The path found by backtracking\")\n",
    "    plt.tight_layout()\n",
    "\n",
    "\n",
    "plot_trellis_with_path(trellis, path)"
   ]
  },
  {
   "cell_type": "code",
   "execution_count": 165,
   "id": "e6baec28",
   "metadata": {},
   "outputs": [
    {
     "name": "stdout",
     "output_type": "stream",
     "text": [
      "ㅁ\t(0.32): [    0,     3)\n",
      "ㅓ\t(0.04): [    3,    26)\n",
      "ㄹ\t(0.48): [   26,    28)\n",
      "ㅣ\t(0.00): [   28,    39)\n"
     ]
    }
   ],
   "source": [
    "# Merge the labels\n",
    "@dataclass\n",
    "class Segment:\n",
    "    label: str\n",
    "    start: int\n",
    "    end: int\n",
    "    score: float\n",
    "\n",
    "    def __repr__(self):\n",
    "        return f\"{self.label}\\t({self.score:4.2f}): [{self.start:5d}, {self.end:5d})\"\n",
    "\n",
    "    @property\n",
    "    def length(self):\n",
    "        return self.end - self.start\n",
    "\n",
    "\n",
    "def merge_repeats(path):\n",
    "    i1, i2 = 0, 0\n",
    "    segments = []\n",
    "    while i1 < len(path):\n",
    "        while i2 < len(path) and path[i1].token_index == path[i2].token_index:\n",
    "            i2 += 1\n",
    "        score = sum(path[k].score for k in range(i1, i2)) / (i2 - i1)\n",
    "        segments.append(\n",
    "            Segment(\n",
    "                transcript[path[i1].token_index],\n",
    "                path[i1].time_index,\n",
    "                path[i2 - 1].time_index + 1,\n",
    "                score,\n",
    "            )\n",
    "        )\n",
    "        i1 = i2\n",
    "    return segments\n",
    "\n",
    "\n",
    "segments = merge_repeats(path)\n",
    "for seg in segments:\n",
    "    print(seg)"
   ]
  },
  {
   "cell_type": "code",
   "execution_count": 166,
   "id": "1b14f0e5",
   "metadata": {},
   "outputs": [],
   "source": [
    "def frame_to_sample(frame_idx, total_frames, total_samples):\n",
    "    return int((frame_idx / total_frames) * total_samples)"
   ]
  },
  {
   "cell_type": "code",
   "execution_count": 167,
   "id": "65015436",
   "metadata": {},
   "outputs": [],
   "source": [
    "\n",
    "# Make sure audio is a 1D NumPy array or 1-channel Torch tensor\n",
    "if isinstance(audio, torch.Tensor):\n",
    "    audio_np = audio.squeeze().cpu().numpy()\n",
    "else:\n",
    "    audio_np = audio\n",
    "\n",
    "# Set up output directory\n",
    "output_dir = f\"segments/{transcript}\"\n",
    "os.makedirs(output_dir, exist_ok=True)\n",
    "\n",
    "total_frames = emissions.shape[1] if emissions.ndim == 3 else emissions.shape[0]\n",
    "total_samples = len(audio_np)\n",
    "\n",
    "for idx, seg in enumerate(segments):\n",
    "    start_sample = frame_to_sample(seg.start, total_frames, total_samples)\n",
    "    end_sample = frame_to_sample(seg.end, total_frames, total_samples)\n",
    "\n",
    "    segment_audio = audio_np[start_sample:end_sample]\n",
    "    filename = f\"{output_dir}/{seg.label}_{idx}_{seg.start}_{seg.end}.wav\"\n",
    "    sf.write(filename, segment_audio, 16000)"
   ]
  },
  {
   "cell_type": "code",
   "execution_count": null,
   "id": "ee5c0c61",
   "metadata": {},
   "outputs": [
    {
     "name": "stderr",
     "output_type": "stream",
     "text": [
      "/tmp/ipykernel_3326314/3139461363.py:38: UserWarning: Glyph 12631 (\\N{HANGUL LETTER O}) missing from current font.\n",
      "  fig.tight_layout()\n",
      "/tmp/ipykernel_3326314/3139461363.py:38: UserWarning: Glyph 12601 (\\N{HANGUL LETTER RIEUL}) missing from current font.\n",
      "  fig.tight_layout()\n",
      "/tmp/ipykernel_3326314/3139461363.py:38: UserWarning: Glyph 12623 (\\N{HANGUL LETTER A}) missing from current font.\n",
      "  fig.tight_layout()\n",
      "/tmp/ipykernel_3326314/3139461363.py:38: UserWarning: Glyph 12615 (\\N{HANGUL LETTER IEUNG}) missing from current font.\n",
      "  fig.tight_layout()\n",
      "/tmp/ipykernel_3326314/3139461363.py:38: UserWarning: Glyph 12643 (\\N{HANGUL LETTER I}) missing from current font.\n",
      "  fig.tight_layout()\n",
      "/tmp/ipykernel_3326314/3139461363.py:38: UserWarning: Glyph 12622 (\\N{HANGUL LETTER HIEUH}) missing from current font.\n",
      "  fig.tight_layout()\n"
     ]
    },
    {
     "data": {
      "image/png": "[encoded data removed]",
      "text/plain": [
       "<Figure size 640x480 with 2 Axes>"
      ]
     },
     "metadata": {},
     "output_type": "display_data"
    }
   ],
   "source": [
    "def plot_trellis_with_segments(trellis, segments, transcript):\n",
    "    # To plot trellis with path, we take advantage of 'nan' value\n",
    "    trellis_with_path = trellis.clone()\n",
    "    for i, seg in enumerate(segments):\n",
    "        if seg.label != \"|\":\n",
    "            trellis_with_path[seg.start : seg.end, i] = float(\"nan\")\n",
    "\n",
    "    fig, [ax1, ax2] = plt.subplots(2, 1, sharex=True)\n",
    "    ax1.set_title(\"Path, label and probability for each label\")\n",
    "    ax1.imshow(trellis_with_path.T, origin=\"lower\", aspect=\"auto\")\n",
    "\n",
    "    for i, seg in enumerate(segments):\n",
    "        if seg.label != \"|\":\n",
    "            ax1.annotate(seg.label, (seg.start, i - 0.7), size=\"small\")\n",
    "            ax1.annotate(f\"{seg.score:.2f}\", (seg.start, i + 3), size=\"small\")\n",
    "\n",
    "    ax2.set_title(\"Label probability with and without repetation\")\n",
    "    xs, hs, ws = [], [], []\n",
    "    for seg in segments:\n",
    "        if seg.label != \"|\":\n",
    "            xs.append((seg.end + seg.start) / 2 + 0.4)\n",
    "            hs.append(seg.score)\n",
    "            ws.append(seg.end - seg.start)\n",
    "            ax2.annotate(seg.label, (seg.start + 0.8, -0.07))\n",
    "    ax2.bar(xs, hs, width=ws, color=\"gray\", alpha=0.5, edgecolor=\"black\")\n",
    "\n",
    "    xs, hs = [], []\n",
    "    for p in path:\n",
    "        label = transcript[p.token_index]\n",
    "        if label != \"|\":\n",
    "            xs.append(p.time_index + 1)\n",
    "            hs.append(p.score)\n",
    "\n",
    "    ax2.bar(xs, hs, width=0.5, alpha=0.5)\n",
    "    ax2.axhline(0, color=\"black\")\n",
    "    ax2.grid(True, axis=\"y\")\n",
    "    ax2.set_ylim(-0.1, 1.1)\n",
    "    fig.tight_layout()\n",
    "\n",
    "\n",
    "plot_trellis_with_segments(trellis, segments, transcript)"
   ]
  }
 ],
 "metadata": {
  "kernelspec": {
   "display_name": "asr",
   "language": "python",
   "name": "python3"
  },
  "language_info": {
   "codemirror_mode": {
    "name": "ipython",
    "version": 3
   },
   "file_extension": ".py",
   "mimetype": "text/x-python",
   "name": "python",
   "nbconvert_exporter": "python",
   "pygments_lexer": "ipython3",
   "version": "3.10.14"
  }
 },
 "nbformat": 4,
 "nbformat_minor": 5
}
