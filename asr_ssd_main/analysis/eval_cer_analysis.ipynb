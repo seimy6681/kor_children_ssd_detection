{
 "cells": [
  {
   "cell_type": "code",
   "execution_count": 2,
   "metadata": {},
   "outputs": [],
   "source": [
    "import pandas as pd\n",
    "import numpy as np\n",
    "from sklearn.metrics import classification_report"
   ]
  },
  {
   "cell_type": "markdown",
   "metadata": {},
   "source": [
    "### Age Loss Weighting"
   ]
  },
  {
   "cell_type": "code",
   "execution_count": 3,
   "metadata": {},
   "outputs": [
    {
     "name": "stdout",
     "output_type": "stream",
     "text": [
      "              precision    recall  f1-score   support\n",
      "\n",
      "           0       0.87      0.86      0.87      1355\n",
      "           1       0.41      0.43      0.42       300\n",
      "\n",
      "    accuracy                           0.78      1655\n",
      "   macro avg       0.64      0.65      0.64      1655\n",
      "weighted avg       0.79      0.78      0.79      1655\n",
      "\n",
      "              precision    recall  f1-score   support\n",
      "\n",
      "           0       0.84      0.79      0.81      2868\n",
      "           1       0.63      0.70      0.66      1462\n",
      "\n",
      "    accuracy                           0.76      4330\n",
      "   macro avg       0.73      0.75      0.74      4330\n",
      "weighted avg       0.77      0.76      0.76      4330\n",
      "\n"
     ]
    }
   ],
   "source": [
    "base = pd.read_csv('/home/selinawisco/asr_ssd_main/0421_44_eval.csv')\n",
    "\n",
    "b_old = base[base['age']>5]\n",
    "print(classification_report(b_old['new_label'], b_old['pred_by_ASR']))\n",
    "\n",
    "young = base[base['age']<=5]\n",
    "print(classification_report(base['new_label'], base['pred_by_ASR']))"
   ]
  },
  {
   "cell_type": "code",
   "execution_count": 4,
   "metadata": {},
   "outputs": [
    {
     "name": "stdout",
     "output_type": "stream",
     "text": [
      "              precision    recall  f1-score   support\n",
      "\n",
      "           0       0.86      0.88      0.87      1355\n",
      "           1       0.40      0.37      0.39       300\n",
      "\n",
      "    accuracy                           0.79      1655\n",
      "   macro avg       0.63      0.63      0.63      1655\n",
      "weighted avg       0.78      0.79      0.78      1655\n",
      "\n",
      "              precision    recall  f1-score   support\n",
      "\n",
      "           0       0.78      0.75      0.77      1513\n",
      "           1       0.69      0.72      0.71      1162\n",
      "\n",
      "    accuracy                           0.74      2675\n",
      "   macro avg       0.74      0.74      0.74      2675\n",
      "weighted avg       0.74      0.74      0.74      2675\n",
      "\n"
     ]
    }
   ],
   "source": [
    "df = pd.read_csv('0502_age_label_age_loss_weighting_44_eval.csv')\n",
    "\n",
    "old = df[df['age']>5]\n",
    "print(classification_report(old['new_label'], old['pred_by_ASR']))\n",
    "\n",
    "young = df[df['age']<=5]\n",
    "print(classification_report(young['new_label'], young['pred_by_ASR']))"
   ]
  },
  {
   "cell_type": "code",
   "execution_count": 5,
   "metadata": {},
   "outputs": [
    {
     "data": {
      "text/plain": [
       "new_label\n",
       "0    592\n",
       "1    443\n",
       "Name: count, dtype: int64"
      ]
     },
     "execution_count": 5,
     "metadata": {},
     "output_type": "execute_result"
    }
   ],
   "source": [
    "b_wrong = base[base['new_label']!=base['pred_by_ASR']]\n",
    "b_wrong['new_label'].value_counts()"
   ]
  },
  {
   "cell_type": "code",
   "execution_count": 6,
   "metadata": {},
   "outputs": [
    {
     "data": {
      "text/plain": [
       "age\n",
       "4     241\n",
       "5     219\n",
       "3     185\n",
       "6     147\n",
       "7     120\n",
       "8      62\n",
       "2      32\n",
       "9      23\n",
       "10      6\n",
       "Name: count, dtype: int64"
      ]
     },
     "execution_count": 6,
     "metadata": {},
     "output_type": "execute_result"
    }
   ],
   "source": [
    "b_wrong['age'].value_counts()"
   ]
  },
  {
   "cell_type": "code",
   "execution_count": null,
   "metadata": {},
   "outputs": [],
   "source": []
  },
  {
   "cell_type": "code",
   "execution_count": 7,
   "metadata": {},
   "outputs": [],
   "source": [
    "import jiwer\n",
    "# human <-> target CER\n",
    "def cer1(row):\n",
    "    return jiwer.cer(row['human_text_jamo'], row['target_text_jamo'])\n",
    "\n",
    "def cer2(row):\n",
    "    return jiwer.cer(row['human_text_jamo'], row['asr_human_transcription'])\n",
    "\n",
    "def cer3(row):\n",
    "    return jiwer.cer(row['asr_human_transcription'], row['target_text_jamo'])"
   ]
  },
  {
   "cell_type": "markdown",
   "metadata": {},
   "source": [
    "### ASR 이 맞춘 음성의 평균 CER1    VS    ASR 이 못 맞춘 음성의 평균 CER1"
   ]
  },
  {
   "cell_type": "code",
   "execution_count": 8,
   "metadata": {},
   "outputs": [],
   "source": [
    "b_right= base[base['new_label']==base['pred_by_ASR']]"
   ]
  },
  {
   "cell_type": "code",
   "execution_count": 9,
   "metadata": {},
   "outputs": [
    {
     "data": {
      "text/plain": [
       "0.1288179212458424"
      ]
     },
     "execution_count": 9,
     "metadata": {},
     "output_type": "execute_result"
    }
   ],
   "source": [
    "b_right = b_right.copy()\n",
    "b_right['cer1'] = b_right.apply(lambda x: cer1(x),axis=1).mean()\n",
    "b_right['cer1'].mean()"
   ]
  },
  {
   "cell_type": "code",
   "execution_count": 10,
   "metadata": {},
   "outputs": [
    {
     "data": {
      "text/plain": [
       "0.13436853002070398"
      ]
     },
     "execution_count": 10,
     "metadata": {},
     "output_type": "execute_result"
    }
   ],
   "source": [
    "b_wrong = b_wrong.copy()\n",
    "b_wrong['cer1'] = b_wrong.apply(lambda x: cer1(x), axis=1).mean()\n",
    "b_wrong['cer1'].mean()"
   ]
  },
  {
   "cell_type": "markdown",
   "metadata": {},
   "source": [
    "### ASR 이 못 맞춘 음성 중에서 old 와 young 의 평균 CER1"
   ]
  },
  {
   "cell_type": "code",
   "execution_count": 11,
   "metadata": {},
   "outputs": [],
   "source": [
    "b_old_wr = b_wrong[b_wrong['age']>5]\n",
    "b_young_wr = b_wrong[b_wrong['age']<=5]"
   ]
  },
  {
   "cell_type": "code",
   "execution_count": 12,
   "metadata": {},
   "outputs": [
    {
     "data": {
      "text/plain": [
       "0.1407355679702048"
      ]
     },
     "execution_count": 12,
     "metadata": {},
     "output_type": "execute_result"
    }
   ],
   "source": [
    "b_old_wr = b_wrong[b_wrong['age']>5]\n",
    "b_old_wr = b_old_wr.copy()\n",
    "b_old_wr['cer1'] = b_old_wr.apply(lambda x: cer1(x), axis=1)\n",
    "b_old_wr['cer1'].mean()"
   ]
  },
  {
   "cell_type": "code",
   "execution_count": 13,
   "metadata": {},
   "outputs": [
    {
     "data": {
      "text/plain": [
       "0.13100161778152913"
      ]
     },
     "execution_count": 13,
     "metadata": {},
     "output_type": "execute_result"
    }
   ],
   "source": [
    "b_young_wr = b_young_wr.copy()\n",
    "b_young_wr['cer1'] = b_young_wr.apply(lambda x: cer1(x), axis=1)\n",
    "b_young_wr['cer1'].mean()"
   ]
  },
  {
   "cell_type": "markdown",
   "metadata": {},
   "source": [
    "### 나이별 평균 CER1\n",
    "##### 나이가 커질 수록 CER1 이 떨어진다. (성립)"
   ]
  },
  {
   "cell_type": "code",
   "execution_count": 14,
   "metadata": {},
   "outputs": [
    {
     "data": {
      "text/plain": [
       "age\n",
       "2     0.303602\n",
       "3     0.224187\n",
       "4     0.178342\n",
       "5     0.095007\n",
       "6     0.089887\n",
       "7     0.047299\n",
       "8     0.032450\n",
       "9     0.033142\n",
       "10    0.018939\n",
       "Name: cer1, dtype: float64"
      ]
     },
     "execution_count": 14,
     "metadata": {},
     "output_type": "execute_result"
    }
   ],
   "source": [
    "base['cer1'] = base.apply(lambda x: cer1(x), axis=1)\n",
    "\n",
    "age = base.groupby('age')['cer1'].mean()\n",
    "age\n"
   ]
  },
  {
   "cell_type": "markdown",
   "metadata": {},
   "source": [
    "##### ASR이 틀린 음성 중 나이가 커질 수록 CER 1 이 떨어진다. (성립 X)"
   ]
  },
  {
   "cell_type": "code",
   "execution_count": 15,
   "metadata": {},
   "outputs": [
    {
     "data": {
      "text/plain": [
       "age\n",
       "2     0.112649\n",
       "3     0.156911\n",
       "4     0.114162\n",
       "5     0.130327\n",
       "6     0.180977\n",
       "7     0.104187\n",
       "8     0.132296\n",
       "9     0.111957\n",
       "10    0.083333\n",
       "Name: cer1, dtype: float64"
      ]
     },
     "execution_count": 15,
     "metadata": {},
     "output_type": "execute_result"
    }
   ],
   "source": [
    "b_wrong['cer1'] = b_wrong.apply(lambda x: cer1(x),axis=1)\n",
    "age = b_wrong.groupby('age')['cer1'].mean()\n",
    "age"
   ]
  },
  {
   "cell_type": "markdown",
   "metadata": {},
   "source": [
    "### CER1 이 0.15 이하인 음성의 평균 UAR 은 CER1 이 0.15 이상인 음성의 평균 UAR 보다 낮다. (성립 X)\n"
   ]
  },
  {
   "cell_type": "code",
   "execution_count": 16,
   "metadata": {},
   "outputs": [],
   "source": [
    "from sklearn.metrics import recall_score, accuracy_score"
   ]
  },
  {
   "cell_type": "code",
   "execution_count": 38,
   "metadata": {},
   "outputs": [
    {
     "name": "stdout",
     "output_type": "stream",
     "text": [
      "age\n",
      "4     32\n",
      "3     22\n",
      "6     15\n",
      "5     15\n",
      "7      8\n",
      "8      2\n",
      "10     1\n",
      "2      1\n",
      "9      1\n",
      "Name: count, dtype: int64\n",
      "pred_by_ASR\n",
      "1.0    71\n",
      "0.0    26\n",
      "Name: count, dtype: int64\n"
     ]
    },
    {
     "data": {
      "text/plain": [
       "0.7319587628865979"
      ]
     },
     "execution_count": 38,
     "metadata": {},
     "output_type": "execute_result"
    }
   ],
   "source": [
    "cer_low = base[(base['cer1']>0) & (base['cer1']<0.15)]\n",
    "print(cer_low['age'].value_counts())\n",
    "print(cer_low['pred_by_ASR'].value_counts())\n",
    "recall_score(cer_low['new_label'], cer_low['pred_by_ASR'])"
   ]
  },
  {
   "cell_type": "code",
   "execution_count": 18,
   "metadata": {},
   "outputs": [
    {
     "data": {
      "text/plain": [
       "age\n",
       "2     0.352098\n",
       "3     0.247150\n",
       "4     0.197579\n",
       "5     0.080301\n",
       "6     0.060197\n",
       "7     0.030232\n",
       "8     0.011746\n",
       "9     0.018036\n",
       "10    0.004630\n",
       "Name: cer1, dtype: float64"
      ]
     },
     "execution_count": 18,
     "metadata": {},
     "output_type": "execute_result"
    }
   ],
   "source": [
    "b_right['cer1'] = b_right.apply(lambda x: cer1(x), axis=1)\n",
    "age = b_right.groupby('age')['cer1'].mean()\n",
    "\n",
    "age\n",
    "\n"
   ]
  },
  {
   "cell_type": "code",
   "execution_count": 37,
   "metadata": {},
   "outputs": [
    {
     "name": "stdout",
     "output_type": "stream",
     "text": [
      "age\n",
      "4     436\n",
      "3     352\n",
      "5     204\n",
      "6     148\n",
      "2      99\n",
      "7      70\n",
      "8      39\n",
      "9      14\n",
      "10      2\n",
      "Name: count, dtype: int64\n",
      "pred_by_ASR\n",
      "1.0    947\n",
      "0.0    417\n",
      "Name: count, dtype: int64\n"
     ]
    },
    {
     "data": {
      "text/plain": [
       "0.6942815249266863"
      ]
     },
     "execution_count": 37,
     "metadata": {},
     "output_type": "execute_result"
    }
   ],
   "source": [
    "cer_high = base[base['cer1']>0.15]\n",
    "# print(recall_score(cer_high['new_label'], cer_high['pred_by_ASR'], average='macro'))\n",
    "print(cer_high['age'].value_counts())\n",
    "print(cer_high['pred_by_ASR'].value_counts())\n",
    "recall_score(cer_high['new_label'], cer_high['pred_by_ASR'])\n"
   ]
  },
  {
   "cell_type": "code",
   "execution_count": 20,
   "metadata": {},
   "outputs": [
    {
     "data": {
      "text/plain": [
       "1.5"
      ]
     },
     "execution_count": 20,
     "metadata": {},
     "output_type": "execute_result"
    }
   ],
   "source": [
    "base['cer1'].max()"
   ]
  },
  {
   "cell_type": "code",
   "execution_count": 21,
   "metadata": {},
   "outputs": [],
   "source": [
    "agelist = np.sort(base['age'].unique())\n"
   ]
  },
  {
   "cell_type": "code",
   "execution_count": 22,
   "metadata": {},
   "outputs": [
    {
     "name": "stdout",
     "output_type": "stream",
     "text": [
      "2 0.7639655172413793\n",
      "3 0.7444819802760145\n",
      "4 0.7735689113954038\n",
      "5 0.6678993697588416\n",
      "6 0.66991749524011\n",
      "7 0.6214177978883861\n",
      "8 0.5841463414634147\n",
      "9 0.6747395833333334\n",
      "10 0.6\n"
     ]
    }
   ],
   "source": [
    "for i in agelist:\n",
    "    subdf = base[base['age']==i]\n",
    "    print(i, recall_score(subdf['new_label'],subdf['pred_by_ASR'], average='macro'))"
   ]
  },
  {
   "cell_type": "code",
   "execution_count": 23,
   "metadata": {},
   "outputs": [
    {
     "name": "stdout",
     "output_type": "stream",
     "text": [
      "cer1\n",
      "2 0.30360156720916215\n",
      "3 0.22418724481998206\n",
      "4 0.17834158398751698\n",
      "5 0.09500692447001172\n",
      "6 0.08988692466953335\n",
      "7 0.0472985347985348\n",
      "8 0.032449544914918874\n",
      "9 0.033141858141858146\n",
      "10 0.01893939393939394\n"
     ]
    }
   ],
   "source": [
    "print('cer1')\n",
    "for i in agelist:\n",
    "    subdf = base[base['age']==i]\n",
    "    print(i, subdf['cer1'].mean())"
   ]
  },
  {
   "cell_type": "code",
   "execution_count": 24,
   "metadata": {},
   "outputs": [
    {
     "name": "stdout",
     "output_type": "stream",
     "text": [
      "cer2\n",
      "2 0.35593731163351416\n",
      "3 0.2606455099233641\n",
      "4 0.2293045630605439\n",
      "5 0.16076338650164151\n",
      "6 0.12467019695280565\n",
      "7 0.0970970695970696\n",
      "8 0.0548069735742866\n",
      "9 0.055025530025530026\n",
      "10 0.05357142857142857\n"
     ]
    }
   ],
   "source": [
    "print('cer2')\n",
    "\n",
    "base['cer2'] = base.apply(lambda x: cer2(x), axis=1)\n",
    "for i in agelist:\n",
    "    subdf = base[base['age']==i]\n",
    "    print(i, subdf['cer2'].mean())"
   ]
  },
  {
   "cell_type": "code",
   "execution_count": 25,
   "metadata": {},
   "outputs": [
    {
     "name": "stdout",
     "output_type": "stream",
     "text": [
      "cer3\n",
      "2 0.4527375929274663\n",
      "3 0.3089752407152682\n",
      "4 0.27527644869750134\n",
      "5 0.15291786513263023\n",
      "6 0.12237617455008759\n",
      "7 0.08921703296703296\n",
      "8 0.03438860308666403\n",
      "9 0.04555444555444555\n",
      "10 0.035894660894660896\n"
     ]
    }
   ],
   "source": [
    "print('cer3')\n",
    "\n",
    "base['cer3'] = base.apply(lambda x: cer3(x), axis=1)\n",
    "for i in agelist:\n",
    "    subdf = base[base['age']==i]\n",
    "    print(i, subdf['cer3'].mean())"
   ]
  },
  {
   "cell_type": "code",
   "execution_count": 26,
   "metadata": {},
   "outputs": [
    {
     "name": "stdout",
     "output_type": "stream",
     "text": [
      "cer1\n",
      "2 0.30360156720916215\n",
      "3 0.22418724481998206\n",
      "4 0.17834158398751698\n",
      "5 0.09500692447001172\n",
      "6 0.08988692466953335\n",
      "7 0.0472985347985348\n",
      "8 0.032449544914918874\n",
      "9 0.033141858141858146\n",
      "10 0.01893939393939394\n"
     ]
    }
   ],
   "source": [
    "#틀린음성만 고려\n",
    "print('cer1')\n",
    "df['cer1'] = df.apply(lambda x: cer1(x),axis=1)\n",
    "for i in agelist:\n",
    "    subdf = df[df['age']==i]\n",
    "    print(i, subdf['cer1'].mean())"
   ]
  },
  {
   "cell_type": "code",
   "execution_count": 27,
   "metadata": {},
   "outputs": [
    {
     "name": "stdout",
     "output_type": "stream",
     "text": [
      "cer2\n",
      "2 0.35508589511754074\n",
      "3 0.26473166524748365\n",
      "4 0.2310696161892334\n",
      "5 0.15819653873345146\n",
      "6 0.1222991983861549\n",
      "7 0.08952609890109889\n",
      "8 0.05298223629248559\n",
      "9 0.04829337329337329\n",
      "10 0.03463203463203463\n"
     ]
    }
   ],
   "source": [
    "#틀린음성만 고려\n",
    "print('cer2')\n",
    "df['cer2'] =df.apply(lambda x: cer2(x),axis=1)\n",
    "for i in agelist:\n",
    "    subdf = df[df['age']==i]\n",
    "    print(i, subdf['cer2'].mean())"
   ]
  },
  {
   "cell_type": "code",
   "execution_count": 28,
   "metadata": {},
   "outputs": [
    {
     "name": "stdout",
     "output_type": "stream",
     "text": [
      "cer3\n",
      "2 0.42454792043399636\n",
      "3 0.25837208794567806\n",
      "4 0.24146657967232127\n",
      "5 0.13445722808138913\n",
      "6 0.08703017996496257\n",
      "7 0.07924221611721612\n",
      "8 0.027127028096557183\n",
      "9 0.049983349983349995\n",
      "10 0.01948051948051948\n"
     ]
    }
   ],
   "source": [
    "#틀린음성만 고려\n",
    "print('cer3')\n",
    "df['cer3'] =df.apply(lambda x: cer3(x),axis=1)\n",
    "for i in agelist:\n",
    "    subdf = df[df['age']==i]\n",
    "    print(i, subdf['cer3'].mean())"
   ]
  },
  {
   "cell_type": "code",
   "execution_count": 29,
   "metadata": {},
   "outputs": [
    {
     "name": "stdout",
     "output_type": "stream",
     "text": [
      "3295\n",
      "3295\n"
     ]
    },
    {
     "data": {
      "text/plain": [
       "0.18300559090032775"
      ]
     },
     "execution_count": 29,
     "metadata": {},
     "output_type": "execute_result"
    }
   ],
   "source": [
    "b_right_audios = b_right['audio'].tolist()\n",
    "print(len(b_right_audios))\n",
    "\n",
    "awl_right = df[df['audio'].isin(b_right_audios)]\n",
    "print(len(awl_right))\n",
    "\n",
    "now_wrong = awl_right[awl_right['new_label']!=awl_right['pred_by_ASR']]\n",
    "now_wrong['cer1'].mean()\n",
    "# len(now_wrong)"
   ]
  },
  {
   "cell_type": "code",
   "execution_count": 30,
   "metadata": {},
   "outputs": [
    {
     "name": "stdout",
     "output_type": "stream",
     "text": [
      "1035\n",
      "1035\n"
     ]
    },
    {
     "data": {
      "text/plain": [
       "0.0935877784590231"
      ]
     },
     "execution_count": 30,
     "metadata": {},
     "output_type": "execute_result"
    }
   ],
   "source": [
    "b_wrong_audios = b_wrong['audio'].tolist()\n",
    "print(len(b_wrong_audios))\n",
    "\n",
    "filtered = df[df['audio'].isin(b_wrong_audios)]\n",
    "print(len(filtered))\n",
    "\n",
    "now_right = filtered[filtered['new_label']==filtered['pred_by_ASR']]\n",
    "now_right['cer1'].mean()\n",
    "\n",
    "# len(now_right)"
   ]
  },
  {
   "cell_type": "code",
   "execution_count": 31,
   "metadata": {},
   "outputs": [
    {
     "data": {
      "text/plain": [
       "0.12881792124584235"
      ]
     },
     "execution_count": 31,
     "metadata": {},
     "output_type": "execute_result"
    }
   ],
   "source": [
    "b_right['cer1'].mean()"
   ]
  },
  {
   "cell_type": "code",
   "execution_count": 32,
   "metadata": {},
   "outputs": [
    {
     "data": {
      "text/plain": [
       "0.13436853002070395"
      ]
     },
     "execution_count": 32,
     "metadata": {},
     "output_type": "execute_result"
    }
   ],
   "source": [
    "b_wrong['cer1'].mean()"
   ]
  },
  {
   "cell_type": "code",
   "execution_count": 33,
   "metadata": {},
   "outputs": [
    {
     "data": {
      "text/plain": [
       "358"
      ]
     },
     "execution_count": 33,
     "metadata": {},
     "output_type": "execute_result"
    }
   ],
   "source": [
    "b_wrong_old = b_wrong[b_wrong['age']>5]\n",
    "b_wrong_old['cer1'].mean()\n",
    "\n",
    "len(b_wrong_old)"
   ]
  },
  {
   "cell_type": "code",
   "execution_count": 34,
   "metadata": {},
   "outputs": [
    {
     "data": {
      "text/plain": [
       "677"
      ]
     },
     "execution_count": 34,
     "metadata": {},
     "output_type": "execute_result"
    }
   ],
   "source": [
    "b_wrong_young = b_wrong[b_wrong['age']<=5]\n",
    "b_wrong_young['cer1'].mean()\n",
    "\n",
    "len(b_wrong_young)"
   ]
  },
  {
   "cell_type": "markdown",
   "metadata": {},
   "source": [
    "### Age Embedding 모델"
   ]
  },
  {
   "cell_type": "code",
   "execution_count": 35,
   "metadata": {},
   "outputs": [
    {
     "name": "stdout",
     "output_type": "stream",
     "text": [
      "0.6311623616236162\n"
     ]
    }
   ],
   "source": [
    "import pandas as pd\n",
    "from sklearn.metrics import recall_score\n",
    "emb = pd.read_csv('/home/selinawisco/asr_ssd_main/0508_age_label_embedding_44')\n",
    "\n",
    "emb_old = emb[emb['age']>5]\n",
    "print(recall_score(emb_old['new_label'], emb_old['pred_by_ASR'],average='macro'))"
   ]
  },
  {
   "cell_type": "code",
   "execution_count": 36,
   "metadata": {},
   "outputs": [
    {
     "data": {
      "text/plain": [
       "pred_by_ASR\n",
       "0.0    1365\n",
       "1.0     290\n",
       "Name: count, dtype: int64"
      ]
     },
     "execution_count": 36,
     "metadata": {},
     "output_type": "execute_result"
    }
   ],
   "source": [
    "emb_old['pred_by_ASR'].value_counts()"
   ]
  },
  {
   "cell_type": "code",
   "execution_count": 39,
   "metadata": {},
   "outputs": [
    {
     "name": "stdout",
     "output_type": "stream",
     "text": [
      "0.7454405479533088\n"
     ]
    }
   ],
   "source": [
    "emb_young = emb[emb['age']<=5]\n",
    "print(recall_score(emb_young['new_label'], emb_young['pred_by_ASR'],average='macro'))"
   ]
  },
  {
   "cell_type": "markdown",
   "metadata": {},
   "source": [
    "\n"
   ]
  }
 ],
 "metadata": {
  "kernelspec": {
   "display_name": "asr",
   "language": "python",
   "name": "python3"
  },
  "language_info": {
   "codemirror_mode": {
    "name": "ipython",
    "version": 3
   },
   "file_extension": ".py",
   "mimetype": "text/x-python",
   "name": "python",
   "nbconvert_exporter": "python",
   "pygments_lexer": "ipython3",
   "version": "3.10.14"
  }
 },
 "nbformat": 4,
 "nbformat_minor": 2
}
