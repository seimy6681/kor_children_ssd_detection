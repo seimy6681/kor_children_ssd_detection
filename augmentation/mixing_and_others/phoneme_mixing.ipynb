{
 "cells": [
  {
   "cell_type": "markdown",
   "id": "d50b6c3a",
   "metadata": {},
   "source": [
    "# 6.30.2025\n",
    "phoneme-level mixing augmentation\n",
    "음소 단위 mixing 오그멘테이션\n",
    "\n",
    "1) select DataFrame to generate (wdf) 단어 레벨 데이터셋의 human_text 칼럼을 mixing 해서 generation 합니다.\n",
    "2) 초성 종성 구분을 위해 human_text 를 초성 종성 구분하여 나누는 함수 decompose 를 불러 generation 할때 초성 종성을 각각 따로 가져옵니다."
   ]
  },
  {
   "cell_type": "code",
   "execution_count": null,
   "id": "78f711de",
   "metadata": {},
   "outputs": [],
   "source": [
    "import pandas as pd\n",
    "from jamo import hangul_to_jamo\n",
    "import hangul_jamo\n",
    "import numpy as np\n",
    "import soundfile as sf\n",
    "import os\n",
    "import librosa\n",
    "from tqdm import tqdm\n",
    "from itertools import chain\n",
    "import pathlib"
   ]
  },
  {
   "cell_type": "code",
   "execution_count": 62,
   "id": "fe1f0099",
   "metadata": {},
   "outputs": [],
   "source": [
    "fold = 0"
   ]
  },
  {
   "cell_type": "code",
   "execution_count": 63,
   "id": "08ba7584",
   "metadata": {},
   "outputs": [],
   "source": [
    "# h2j 로 초성, 중성, 종성 구분있게 decompose 하기\n",
    "# return text in its decomposed string with chosung, jungsung and jongsung\n",
    "\n",
    "def decompose(text):\n",
    "    jamos = list(hangul_to_jamo(text))\n",
    "\n",
    "    # Prevent re-composition by adding | token in before, in-between, and after\n",
    "    decomposed = \"|\".join(jamos)\n",
    "    decomposed = \"|\" +decomposed + \"|\"\n",
    "    \n",
    "    # print(f'decompose: {decomposed}')\n",
    "        \n",
    "    return decomposed\n"
   ]
  },
  {
   "cell_type": "code",
   "execution_count": 64,
   "id": "e6bad166",
   "metadata": {},
   "outputs": [
    {
     "data": {
      "text/plain": [
       "'|ᄋ|ᅡ|ᆫ|ᄂ|ᅧ|ᆼ|'"
      ]
     },
     "execution_count": 64,
     "metadata": {},
     "output_type": "execute_result"
    }
   ],
   "source": [
    "decompose(\"안녕\")"
   ]
  },
  {
   "cell_type": "code",
   "execution_count": 65,
   "id": "3e3e379a",
   "metadata": {},
   "outputs": [],
   "source": [
    "# 단어 레벨 데이터셋 로딩 (생성할 텍스트 칼럼이 있는 CSV)\n",
    "orig_data = f'/data/selinawisco/kochild/nas_data/five_fold_datasets/test_fold_{fold}.csv' # transribed test file (fold_0_test 전사된 파일)\n",
    "# orig_data = f'/home/selinawisco/whisper_evals/whisper-small-fold{fold}-42-eval.csv' # transribed test file (fold_0_test 전사된 파일)\n",
    "\n",
    "wdf = pd.read_csv(orig_data)\n",
    "wdf['human_h2j'] =wdf['human_text'].apply(decompose)\n",
    "wdf['target_h2j'] =wdf['target_text'].apply(decompose)\n",
    "# wdf['asr_h2j'] =wdf['asr_human_transcription'].apply(decompose)\n",
    "\n"
   ]
  },
  {
   "cell_type": "code",
   "execution_count": 66,
   "id": "76d15a68",
   "metadata": {},
   "outputs": [
    {
     "data": {
      "text/plain": [
       "41"
      ]
     },
     "execution_count": 66,
     "metadata": {},
     "output_type": "execute_result"
    }
   ],
   "source": [
    "# 초성 종성 구분 전 vocab 수:\n",
    "vocab = set()\n",
    "for text in wdf['human_text_jamo']:\n",
    "    vocab.update(jamo for jamo in text)\n",
    "len(vocab)"
   ]
  },
  {
   "cell_type": "code",
   "execution_count": 67,
   "id": "6914b9b2",
   "metadata": {},
   "outputs": [
    {
     "data": {
      "text/plain": [
       "53"
      ]
     },
     "execution_count": 67,
     "metadata": {},
     "output_type": "execute_result"
    }
   ],
   "source": [
    "# 구분 후 vocab 수\n",
    "vocab = set()\n",
    "for text in wdf['human_h2j']:\n",
    "    vocab.update(jamo for jamo in text)\n",
    "len(vocab)"
   ]
  },
  {
   "cell_type": "code",
   "execution_count": 68,
   "id": "a4acf249",
   "metadata": {},
   "outputs": [],
   "source": [
    "# df.to_csv(f'/home/selinawisco/whisper_evals/whisper-small-fold{fold}-42-eval.csv', index=False)"
   ]
  },
  {
   "cell_type": "code",
   "execution_count": 69,
   "id": "0116d69f",
   "metadata": {},
   "outputs": [],
   "source": [
    "# 위 csv에 forced alignment 가 된 음소단위 데이터셋 불러오기\n",
    "DATA = f\"/data/selinawisco/kochild/forced_aligned/fold_0/human-aligned-fold-0-test/human_aligned_fold_{fold}_test.csv\""
   ]
  },
  {
   "cell_type": "code",
   "execution_count": 70,
   "id": "45e1a76a",
   "metadata": {},
   "outputs": [],
   "source": [
    "df = pd.read_csv(DATA)"
   ]
  },
  {
   "cell_type": "code",
   "execution_count": 71,
   "id": "2ab43124",
   "metadata": {},
   "outputs": [
    {
     "data": {
      "text/plain": [
       "Index(['orig_audio', 'segment_audio', 'fa_phoneme_label', 'phoneme_idx',\n",
       "       'target_phoneme', 'human_phoneme', 'start_sample', 'end_sample',\n",
       "       'human_text_jamo', 'target_text_jamo', 'disease_type', 'age', 'gender',\n",
       "       'id', 'subgroup'],\n",
       "      dtype='object')"
      ]
     },
     "execution_count": 71,
     "metadata": {},
     "output_type": "execute_result"
    }
   ],
   "source": [
    "df.columns"
   ]
  },
  {
   "cell_type": "code",
   "execution_count": 72,
   "id": "6d3dd167",
   "metadata": {},
   "outputs": [],
   "source": [
    "# 종성 초성 구분있게 다시 분리하기 위해서 다시 조합\n",
    "df['human_text'] = df['human_text_jamo'].apply(hangul_jamo.compose)\n",
    "df['target_text'] = df['target_text_jamo'].apply(hangul_jamo.compose)\n"
   ]
  },
  {
   "cell_type": "code",
   "execution_count": 73,
   "id": "a243e7d1",
   "metadata": {},
   "outputs": [
    {
     "data": {
      "text/plain": [
       "52"
      ]
     },
     "execution_count": 73,
     "metadata": {},
     "output_type": "execute_result"
    }
   ],
   "source": [
    "# forced alignment phoneme label 이 중성 종성 초성 구분되게 다시 매핑\n",
    "\n",
    "def jamo_at_index(text, idx):\n",
    "\n",
    "    corrected_idx = 1 + idx * 2\n",
    "    decomposed = decompose(text)\n",
    "    # print(\"at index\", corrected_idx, \": \", decomposed[corrected_idx])\n",
    "    return decomposed[corrected_idx]\n",
    "\n",
    "df['fa_phoneme_label'] = df.apply(lambda row: jamo_at_index(row['human_text'], row['phoneme_idx']), axis=1)\n",
    "df['fa_phoneme_label'].nunique()\n"
   ]
  },
  {
   "cell_type": "code",
   "execution_count": null,
   "id": "f180032e",
   "metadata": {},
   "outputs": [],
   "source": [
    "def phoneme_mixing(df, input_text, target_text, output_dir):\n",
    "    os.makedirs(output_dir, exist_ok=True)\n",
    "    \n",
    "    # 셔플\n",
    "    np.random.seed(1)\n",
    "    df = df.sample(frac=1)\n",
    "    input_orig = input_text # 분리전 텍스트 저장\n",
    "    input_text = decompose(input_text) # 초종성 유지하며 분리\n",
    "    sdf = df[df['target_text']==target_text] # 타겟 단어만 필터 \n",
    "    \n",
    "    mixed_data = []\n",
    "    \n",
    "    jamo_paths = [] # list of phoneme paths to concatenate\n",
    "    jamo_audios = []\n",
    "    \n",
    "    for i in range(1,len(input_text),2):\n",
    "        \n",
    "        jamo = input_text[i]\n",
    "        # print(jamo)\n",
    "        candidates = sdf[sdf['fa_phoneme_label']==jamo] # 먼저 타겟단어 안에서 자모 가져오기\n",
    "        if len(candidates) > 1: \n",
    "            jamo_path = candidates.sample(n=1).iloc[0]['segment_audio']\n",
    "            jamo_audio, sr = librosa.load(jamo_path, sr=16000)\n",
    "            \n",
    "            jamo_paths.append(jamo_path)\n",
    "            jamo_audios.append(jamo_audio)\n",
    "        else: # 해당 타겟단어안에서 음소가 없으면 전체에서 가져오기\n",
    "            # print(\"jamo not found in target text\")\n",
    "            candidates = df[df['fa_phoneme_label']==jamo]\n",
    "            jamo_path = candidates.sample(n=1).iloc[0]['segment_audio'] \n",
    "            jamo_paths.append(jamo_path)\n",
    "            \n",
    "            jamo_audio, sr = librosa.load(jamo_path, sr=16000)\n",
    "            jamo_audios.append(jamo_audio)\n",
    "            \n",
    "    output = np.concatenate(jamo_audios)\n",
    "    output_path = os.path.join(output_dir, f\"phoneme_mixing_{input_text}.wav\")\n",
    "    sf.write(output_path, output, sr)\n",
    "    \n",
    "    # csv entries\n",
    "    mixed_data.append({\n",
    "        \"audio\": output_path,\n",
    "        \"target_text\": target_text,\n",
    "        \"human_text\": input_orig,\n",
    "        \"human_text_decomposed\": input_text,\n",
    "    })\n",
    "    \n",
    "    return mixed_data\n",
    "    "
   ]
  },
  {
   "cell_type": "code",
   "execution_count": 101,
   "id": "08a0132a",
   "metadata": {},
   "outputs": [
    {
     "name": "stdout",
     "output_type": "stream",
     "text": [
      "CSV used to generate:  test_fold_0\n"
     ]
    },
    {
     "name": "stderr",
     "output_type": "stream",
     "text": [
      "  1%|          | 9/1464 [00:00<00:16, 86.12it/s]"
     ]
    },
    {
     "name": "stdout",
     "output_type": "stream",
     "text": [
      "jamo not found in target text\n",
      "jamo not found in target text\n",
      "jamo not found in target text\n"
     ]
    },
    {
     "name": "stderr",
     "output_type": "stream",
     "text": [
      "  1%|▏         | 21/1464 [00:00<00:14, 102.53it/s]"
     ]
    },
    {
     "name": "stdout",
     "output_type": "stream",
     "text": [
      "jamo not found in target text\n",
      "jamo not found in target text\n",
      "jamo not found in target text\n",
      "jamo not found in target text\n"
     ]
    },
    {
     "name": "stderr",
     "output_type": "stream",
     "text": [
      "  3%|▎         | 45/1464 [00:00<00:12, 111.08it/s]"
     ]
    },
    {
     "name": "stdout",
     "output_type": "stream",
     "text": [
      "jamo not found in target text\n",
      "jamo not found in target text\n",
      "jamo not found in target text\n",
      "jamo not found in target text\n",
      "jamo not found in target text\n",
      "jamo not found in target text\n"
     ]
    },
    {
     "name": "stderr",
     "output_type": "stream",
     "text": [
      "  5%|▍         | 69/1464 [00:00<00:12, 114.87it/s]"
     ]
    },
    {
     "name": "stdout",
     "output_type": "stream",
     "text": [
      "jamo not found in target text\n",
      "jamo not found in target text\n",
      "jamo not found in target text\n"
     ]
    },
    {
     "name": "stderr",
     "output_type": "stream",
     "text": [
      "  6%|▋         | 93/1464 [00:00<00:11, 115.11it/s]"
     ]
    },
    {
     "name": "stdout",
     "output_type": "stream",
     "text": [
      "jamo not found in target text\n",
      "jamo not found in target text\n",
      "jamo not found in target text\n",
      "jamo not found in target text\n",
      "jamo not found in target text\n",
      "jamo not found in target text\n"
     ]
    },
    {
     "name": "stderr",
     "output_type": "stream",
     "text": [
      "  9%|▉         | 129/1464 [00:01<00:11, 114.91it/s]"
     ]
    },
    {
     "name": "stdout",
     "output_type": "stream",
     "text": [
      "jamo not found in target text\n",
      "jamo not found in target text\n",
      "jamo not found in target text\n",
      "jamo not found in target text\n"
     ]
    },
    {
     "name": "stderr",
     "output_type": "stream",
     "text": [
      " 11%|█▏        | 166/1464 [00:01<00:11, 115.79it/s]"
     ]
    },
    {
     "name": "stdout",
     "output_type": "stream",
     "text": [
      "jamo not found in target text\n",
      "jamo not found in target text\n",
      "jamo not found in target text\n",
      "jamo not found in target text\n",
      "jamo not found in target text\n",
      "jamo not found in target text\n",
      "jamo not found in target text\n",
      "jamo not found in target text\n",
      "jamo not found in target text\n"
     ]
    },
    {
     "name": "stderr",
     "output_type": "stream",
     "text": [
      " 13%|█▎        | 190/1464 [00:01<00:11, 112.33it/s]"
     ]
    },
    {
     "name": "stdout",
     "output_type": "stream",
     "text": [
      "jamo not found in target text\n",
      "jamo not found in target text\n",
      "jamo not found in target text\n",
      "jamo not found in target text\n",
      "jamo not found in target text\n",
      "jamo not found in target text\n",
      "jamo not found in target text\n",
      "jamo not found in target text\n",
      "jamo not found in target text\n",
      "jamo not found in target text\n"
     ]
    },
    {
     "name": "stderr",
     "output_type": "stream",
     "text": [
      " 15%|█▍        | 215/1464 [00:01<00:10, 113.91it/s]"
     ]
    },
    {
     "name": "stdout",
     "output_type": "stream",
     "text": [
      "jamo not found in target text\n",
      "jamo not found in target text\n",
      "jamo not found in target text\n",
      "jamo not found in target text\n",
      "jamo not found in target text\n",
      "jamo not found in target text\n",
      "jamo not found in target text\n"
     ]
    },
    {
     "name": "stderr",
     "output_type": "stream",
     "text": [
      " 16%|█▋        | 239/1464 [00:02<00:10, 114.19it/s]"
     ]
    },
    {
     "name": "stdout",
     "output_type": "stream",
     "text": [
      "jamo not found in target text\n",
      "jamo not found in target text\n",
      "jamo not found in target text\n"
     ]
    },
    {
     "name": "stderr",
     "output_type": "stream",
     "text": [
      " 18%|█▊        | 263/1464 [00:02<00:10, 111.17it/s]"
     ]
    },
    {
     "name": "stdout",
     "output_type": "stream",
     "text": [
      "jamo not found in target text\n",
      "jamo not found in target text\n",
      "jamo not found in target text\n",
      "jamo not found in target text\n",
      "jamo not found in target text\n"
     ]
    },
    {
     "name": "stderr",
     "output_type": "stream",
     "text": [
      " 21%|██        | 301/1464 [00:02<00:09, 116.76it/s]"
     ]
    },
    {
     "name": "stdout",
     "output_type": "stream",
     "text": [
      "jamo not found in target text\n"
     ]
    },
    {
     "name": "stderr",
     "output_type": "stream",
     "text": [
      " 22%|██▏       | 325/1464 [00:02<00:10, 111.49it/s]"
     ]
    },
    {
     "name": "stdout",
     "output_type": "stream",
     "text": [
      "jamo not found in target text\n",
      "jamo not found in target text\n",
      "jamo not found in target text\n",
      "jamo not found in target text\n",
      "jamo not found in target text\n",
      "jamo not found in target text\n",
      "jamo not found in target text\n",
      "jamo not found in target text\n",
      "jamo not found in target text\n",
      "jamo not found in target text\n",
      "jamo not found in target text\n",
      "jamo not found in target text\n",
      "jamo not found in target text\n"
     ]
    },
    {
     "name": "stderr",
     "output_type": "stream",
     "text": [
      " 24%|██▍       | 349/1464 [00:03<00:09, 113.70it/s]"
     ]
    },
    {
     "name": "stdout",
     "output_type": "stream",
     "text": [
      "jamo not found in target text\n",
      "jamo not found in target text\n",
      "jamo not found in target text\n",
      "jamo not found in target text\n",
      "jamo not found in target text\n",
      "jamo not found in target text\n"
     ]
    },
    {
     "name": "stderr",
     "output_type": "stream",
     "text": [
      " 25%|██▌       | 373/1464 [00:03<00:09, 114.33it/s]"
     ]
    },
    {
     "name": "stdout",
     "output_type": "stream",
     "text": [
      "jamo not found in target text\n",
      "jamo not found in target text\n",
      "jamo not found in target text\n"
     ]
    },
    {
     "name": "stderr",
     "output_type": "stream",
     "text": [
      " 28%|██▊       | 410/1464 [00:03<00:08, 117.27it/s]"
     ]
    },
    {
     "name": "stdout",
     "output_type": "stream",
     "text": [
      "jamo not found in target text\n",
      "jamo not found in target text\n",
      "jamo not found in target text\n"
     ]
    },
    {
     "name": "stderr",
     "output_type": "stream",
     "text": [
      " 30%|███       | 446/1464 [00:03<00:08, 116.01it/s]"
     ]
    },
    {
     "name": "stdout",
     "output_type": "stream",
     "text": [
      "jamo not found in target text\n",
      "jamo not found in target text\n",
      "jamo not found in target text\n",
      "jamo not found in target text\n",
      "jamo not found in target text\n"
     ]
    },
    {
     "name": "stderr",
     "output_type": "stream",
     "text": [
      " 32%|███▏      | 470/1464 [00:04<00:08, 115.78it/s]"
     ]
    },
    {
     "name": "stdout",
     "output_type": "stream",
     "text": [
      "jamo not found in target text\n",
      "jamo not found in target text\n",
      "jamo not found in target text\n",
      "jamo not found in target text\n"
     ]
    },
    {
     "name": "stderr",
     "output_type": "stream",
     "text": [
      " 34%|███▍      | 495/1464 [00:04<00:08, 117.51it/s]"
     ]
    },
    {
     "name": "stdout",
     "output_type": "stream",
     "text": [
      "jamo not found in target text\n",
      "jamo not found in target text\n",
      "jamo not found in target text\n",
      "jamo not found in target text\n",
      "jamo not found in target text\n"
     ]
    },
    {
     "name": "stderr",
     "output_type": "stream",
     "text": [
      " 35%|███▌      | 519/1464 [00:04<00:08, 115.52it/s]"
     ]
    },
    {
     "name": "stdout",
     "output_type": "stream",
     "text": [
      "jamo not found in target text\n",
      "jamo not found in target text\n",
      "jamo not found in target text\n",
      "jamo not found in target text\n",
      "jamo not found in target text\n",
      "jamo not found in target text\n",
      "jamo not found in target text\n"
     ]
    },
    {
     "name": "stderr",
     "output_type": "stream",
     "text": [
      " 37%|███▋      | 543/1464 [00:04<00:08, 114.21it/s]"
     ]
    },
    {
     "name": "stdout",
     "output_type": "stream",
     "text": [
      "jamo not found in target text\n",
      "jamo not found in target text\n",
      "jamo not found in target text\n",
      "jamo not found in target text\n",
      "jamo not found in target text\n",
      "jamo not found in target text\n",
      "jamo not found in target text\n"
     ]
    },
    {
     "name": "stderr",
     "output_type": "stream",
     "text": [
      " 40%|███▉      | 579/1464 [00:05<00:07, 116.32it/s]"
     ]
    },
    {
     "name": "stdout",
     "output_type": "stream",
     "text": [
      "jamo not found in target text\n",
      "jamo not found in target text\n",
      "jamo not found in target text\n",
      "jamo not found in target text\n"
     ]
    },
    {
     "name": "stderr",
     "output_type": "stream",
     "text": [
      " 41%|████      | 603/1464 [00:05<00:07, 116.35it/s]"
     ]
    },
    {
     "name": "stdout",
     "output_type": "stream",
     "text": [
      "jamo not found in target text\n",
      "jamo not found in target text\n",
      "jamo not found in target text\n",
      "jamo not found in target text\n",
      "jamo not found in target text\n",
      "jamo not found in target text\n",
      "jamo not found in target text\n",
      "jamo not found in target text\n",
      "jamo not found in target text\n",
      "jamo not found in target text\n"
     ]
    },
    {
     "name": "stderr",
     "output_type": "stream",
     "text": [
      " 45%|████▌     | 666/1464 [00:05<00:06, 120.07it/s]"
     ]
    },
    {
     "name": "stdout",
     "output_type": "stream",
     "text": [
      "jamo not found in target text\n",
      "jamo not found in target text\n"
     ]
    },
    {
     "name": "stderr",
     "output_type": "stream",
     "text": [
      " 48%|████▊     | 703/1464 [00:06<00:06, 109.79it/s]"
     ]
    },
    {
     "name": "stdout",
     "output_type": "stream",
     "text": [
      "jamo not found in target text\n",
      "jamo not found in target text\n",
      "jamo not found in target text\n",
      "jamo not found in target text\n",
      "jamo not found in target text\n"
     ]
    },
    {
     "name": "stderr",
     "output_type": "stream",
     "text": [
      " 50%|████▉     | 728/1464 [00:06<00:06, 113.55it/s]"
     ]
    },
    {
     "name": "stdout",
     "output_type": "stream",
     "text": [
      "jamo not found in target text\n"
     ]
    },
    {
     "name": "stderr",
     "output_type": "stream",
     "text": [
      " 52%|█████▏    | 764/1464 [00:06<00:06, 116.31it/s]"
     ]
    },
    {
     "name": "stdout",
     "output_type": "stream",
     "text": [
      "jamo not found in target text\n",
      "jamo not found in target text\n",
      "jamo not found in target text\n"
     ]
    },
    {
     "name": "stderr",
     "output_type": "stream",
     "text": [
      " 55%|█████▍    | 801/1464 [00:06<00:05, 116.55it/s]"
     ]
    },
    {
     "name": "stdout",
     "output_type": "stream",
     "text": [
      "jamo not found in target text\n",
      "jamo not found in target text\n",
      "jamo not found in target text\n",
      "jamo not found in target text\n",
      "jamo not found in target text\n",
      "jamo not found in target text\n",
      "jamo not found in target text\n",
      "jamo not found in target text\n",
      "jamo not found in target text\n"
     ]
    },
    {
     "name": "stderr",
     "output_type": "stream",
     "text": [
      " 57%|█████▋    | 837/1464 [00:07<00:05, 114.23it/s]"
     ]
    },
    {
     "name": "stdout",
     "output_type": "stream",
     "text": [
      "jamo not found in target text\n",
      "jamo not found in target text\n",
      "jamo not found in target text\n"
     ]
    },
    {
     "name": "stderr",
     "output_type": "stream",
     "text": [
      " 59%|█████▉    | 862/1464 [00:07<00:05, 117.58it/s]"
     ]
    },
    {
     "name": "stdout",
     "output_type": "stream",
     "text": [
      "jamo not found in target text\n",
      "jamo not found in target text\n",
      "jamo not found in target text\n",
      "jamo not found in target text\n"
     ]
    },
    {
     "name": "stderr",
     "output_type": "stream",
     "text": [
      " 61%|██████    | 886/1464 [00:07<00:04, 117.92it/s]"
     ]
    },
    {
     "name": "stdout",
     "output_type": "stream",
     "text": [
      "jamo not found in target text\n",
      "jamo not found in target text\n",
      "jamo not found in target text\n"
     ]
    },
    {
     "name": "stderr",
     "output_type": "stream",
     "text": [
      " 62%|██████▏   | 910/1464 [00:07<00:04, 116.88it/s]"
     ]
    },
    {
     "name": "stdout",
     "output_type": "stream",
     "text": [
      "jamo not found in target text\n",
      "jamo not found in target text\n",
      "jamo not found in target text\n",
      "jamo not found in target text\n",
      "jamo not found in target text\n"
     ]
    },
    {
     "name": "stderr",
     "output_type": "stream",
     "text": [
      " 64%|██████▍   | 934/1464 [00:08<00:04, 112.63it/s]"
     ]
    },
    {
     "name": "stdout",
     "output_type": "stream",
     "text": [
      "jamo not found in target text\n",
      "jamo not found in target text\n",
      "jamo not found in target text\n",
      "jamo not found in target text\n",
      "jamo not found in target text\n",
      "jamo not found in target text\n",
      "jamo not found in target text\n",
      "jamo not found in target text\n",
      "jamo not found in target text\n",
      "jamo not found in target text\n"
     ]
    },
    {
     "name": "stderr",
     "output_type": "stream",
     "text": [
      " 65%|██████▌   | 958/1464 [00:08<00:04, 111.00it/s]"
     ]
    },
    {
     "name": "stdout",
     "output_type": "stream",
     "text": [
      "jamo not found in target text\n",
      "jamo not found in target text\n",
      "jamo not found in target text\n",
      "jamo not found in target text\n",
      "jamo not found in target text\n",
      "jamo not found in target text\n",
      "jamo not found in target text\n",
      "jamo not found in target text\n",
      "jamo not found in target text\n",
      "jamo not found in target text\n"
     ]
    },
    {
     "name": "stderr",
     "output_type": "stream",
     "text": [
      " 67%|██████▋   | 982/1464 [00:08<00:04, 113.94it/s]"
     ]
    },
    {
     "name": "stdout",
     "output_type": "stream",
     "text": [
      "jamo not found in target text\n",
      "jamo not found in target text\n"
     ]
    },
    {
     "name": "stderr",
     "output_type": "stream",
     "text": [
      " 70%|██████▉   | 1019/1464 [00:08<00:03, 114.95it/s]"
     ]
    },
    {
     "name": "stdout",
     "output_type": "stream",
     "text": [
      "jamo not found in target text\n",
      "jamo not found in target text\n",
      "jamo not found in target text\n",
      "jamo not found in target text\n",
      "jamo not found in target text\n",
      "jamo not found in target text\n"
     ]
    },
    {
     "name": "stderr",
     "output_type": "stream",
     "text": [
      " 71%|███████▏  | 1044/1464 [00:09<00:03, 115.82it/s]"
     ]
    },
    {
     "name": "stdout",
     "output_type": "stream",
     "text": [
      "jamo not found in target text\n",
      "jamo not found in target text\n",
      "jamo not found in target text\n",
      "jamo not found in target text\n"
     ]
    },
    {
     "name": "stderr",
     "output_type": "stream",
     "text": [
      " 73%|███████▎  | 1068/1464 [00:09<00:03, 114.37it/s]"
     ]
    },
    {
     "name": "stdout",
     "output_type": "stream",
     "text": [
      "jamo not found in target text\n",
      "jamo not found in target text\n",
      "jamo not found in target text\n",
      "jamo not found in target text\n",
      "jamo not found in target text\n",
      "jamo not found in target text\n",
      "jamo not found in target text\n",
      "jamo not found in target text\n",
      "jamo not found in target text\n"
     ]
    },
    {
     "name": "stderr",
     "output_type": "stream",
     "text": [
      " 75%|███████▍  | 1094/1464 [00:09<00:03, 117.50it/s]"
     ]
    },
    {
     "name": "stdout",
     "output_type": "stream",
     "text": [
      "jamo not found in target text\n",
      "jamo not found in target text\n",
      "jamo not found in target text\n",
      "jamo not found in target text\n",
      "jamo not found in target text\n",
      "jamo not found in target text\n"
     ]
    },
    {
     "name": "stderr",
     "output_type": "stream",
     "text": [
      " 76%|███████▋  | 1118/1464 [00:09<00:03, 113.87it/s]"
     ]
    },
    {
     "name": "stdout",
     "output_type": "stream",
     "text": [
      "jamo not found in target text\n",
      "jamo not found in target text\n",
      "jamo not found in target text\n",
      "jamo not found in target text\n",
      "jamo not found in target text\n",
      "jamo not found in target text\n",
      "jamo not found in target text\n",
      "jamo not found in target text\n",
      "jamo not found in target text\n",
      "jamo not found in target text\n",
      "jamo not found in target text\n",
      "jamo not found in target text\n"
     ]
    },
    {
     "name": "stderr",
     "output_type": "stream",
     "text": [
      " 78%|███████▊  | 1142/1464 [00:09<00:02, 110.59it/s]"
     ]
    },
    {
     "name": "stdout",
     "output_type": "stream",
     "text": [
      "jamo not found in target text\n",
      "jamo not found in target text\n",
      "jamo not found in target text\n",
      "jamo not found in target text\n",
      "jamo not found in target text\n",
      "jamo not found in target text\n",
      "jamo not found in target text\n",
      "jamo not found in target text\n",
      "jamo not found in target text\n",
      "jamo not found in target text\n",
      "jamo not found in target text\n",
      "jamo not found in target text\n"
     ]
    },
    {
     "name": "stderr",
     "output_type": "stream",
     "text": [
      " 80%|████████  | 1178/1464 [00:10<00:02, 113.60it/s]"
     ]
    },
    {
     "name": "stdout",
     "output_type": "stream",
     "text": [
      "jamo not found in target text\n",
      "jamo not found in target text\n",
      "jamo not found in target text\n",
      "jamo not found in target text\n",
      "jamo not found in target text\n",
      "jamo not found in target text\n",
      "jamo not found in target text\n",
      "jamo not found in target text\n",
      "jamo not found in target text\n",
      "jamo not found in target text\n"
     ]
    },
    {
     "name": "stderr",
     "output_type": "stream",
     "text": [
      " 82%|████████▏ | 1202/1464 [00:10<00:02, 111.95it/s]"
     ]
    },
    {
     "name": "stdout",
     "output_type": "stream",
     "text": [
      "jamo not found in target text\n",
      "jamo not found in target text\n",
      "jamo not found in target text\n",
      "jamo not found in target text\n",
      "jamo not found in target text\n",
      "jamo not found in target text\n",
      "jamo not found in target text\n",
      "jamo not found in target text\n",
      "jamo not found in target text\n",
      "jamo not found in target text\n",
      "jamo not found in target text\n",
      "jamo not found in target text\n"
     ]
    },
    {
     "name": "stderr",
     "output_type": "stream",
     "text": [
      " 84%|████████▍ | 1229/1464 [00:10<00:01, 121.30it/s]"
     ]
    },
    {
     "name": "stdout",
     "output_type": "stream",
     "text": [
      "jamo not found in target text\n",
      "jamo not found in target text\n",
      "jamo not found in target text\n",
      "jamo not found in target text\n",
      "jamo not found in target text\n",
      "jamo not found in target text\n",
      "jamo not found in target text\n",
      "jamo not found in target text\n"
     ]
    },
    {
     "name": "stderr",
     "output_type": "stream",
     "text": [
      " 86%|████████▌ | 1256/1464 [00:10<00:01, 125.48it/s]"
     ]
    },
    {
     "name": "stdout",
     "output_type": "stream",
     "text": [
      "jamo not found in target text\n",
      "jamo not found in target text\n",
      "jamo not found in target text\n",
      "jamo not found in target text\n",
      "jamo not found in target text\n",
      "jamo not found in target text\n",
      "jamo not found in target text\n",
      "jamo not found in target text\n",
      "jamo not found in target text\n",
      "jamo not found in target text\n",
      "jamo not found in target text\n"
     ]
    },
    {
     "name": "stderr",
     "output_type": "stream",
     "text": [
      " 88%|████████▊ | 1281/1464 [00:11<00:01, 116.19it/s]"
     ]
    },
    {
     "name": "stdout",
     "output_type": "stream",
     "text": [
      "jamo not found in target text\n",
      "jamo not found in target text\n",
      "jamo not found in target text\n",
      "jamo not found in target text\n",
      "jamo not found in target text\n",
      "jamo not found in target text\n",
      "jamo not found in target text\n",
      "jamo not found in target text\n",
      "jamo not found in target text\n",
      "jamo not found in target text\n",
      "jamo not found in target text\n",
      "jamo not found in target text\n",
      "jamo not found in target text\n"
     ]
    },
    {
     "name": "stderr",
     "output_type": "stream",
     "text": [
      " 92%|█████████▏| 1341/1464 [00:11<00:00, 138.89it/s]"
     ]
    },
    {
     "name": "stdout",
     "output_type": "stream",
     "text": [
      "jamo not found in target text\n",
      "jamo not found in target text\n",
      "jamo not found in target text\n",
      "jamo not found in target text\n",
      "jamo not found in target text\n",
      "jamo not found in target text\n",
      "jamo not found in target text\n",
      "jamo not found in target text\n",
      "jamo not found in target text\n",
      "jamo not found in target text\n",
      "jamo not found in target text\n"
     ]
    },
    {
     "name": "stderr",
     "output_type": "stream",
     "text": [
      " 94%|█████████▎| 1369/1464 [00:11<00:00, 125.82it/s]"
     ]
    },
    {
     "name": "stdout",
     "output_type": "stream",
     "text": [
      "jamo not found in target text\n",
      "jamo not found in target text\n",
      "jamo not found in target text\n",
      "jamo not found in target text\n",
      "jamo not found in target text\n",
      "jamo not found in target text\n",
      "jamo not found in target text\n",
      "jamo not found in target text\n",
      "jamo not found in target text\n",
      "jamo not found in target text\n",
      "jamo not found in target text\n",
      "jamo not found in target text\n",
      "jamo not found in target text\n",
      "jamo not found in target text\n",
      "jamo not found in target text\n"
     ]
    },
    {
     "name": "stderr",
     "output_type": "stream",
     "text": [
      " 95%|█████████▌| 1395/1464 [00:12<00:00, 123.33it/s]"
     ]
    },
    {
     "name": "stdout",
     "output_type": "stream",
     "text": [
      "jamo not found in target text\n",
      "jamo not found in target text\n",
      "jamo not found in target text\n",
      "jamo not found in target text\n",
      "jamo not found in target text\n",
      "jamo not found in target text\n",
      "jamo not found in target text\n",
      "jamo not found in target text\n",
      "jamo not found in target text\n",
      "jamo not found in target text\n",
      "jamo not found in target text\n",
      "jamo not found in target text\n",
      "jamo not found in target text\n"
     ]
    },
    {
     "name": "stderr",
     "output_type": "stream",
     "text": [
      " 97%|█████████▋| 1422/1464 [00:12<00:00, 123.51it/s]"
     ]
    },
    {
     "name": "stdout",
     "output_type": "stream",
     "text": [
      "jamo not found in target text\n",
      "jamo not found in target text\n",
      "jamo not found in target text\n",
      "jamo not found in target text\n",
      "jamo not found in target text\n",
      "jamo not found in target text\n",
      "jamo not found in target text\n",
      "jamo not found in target text\n",
      "jamo not found in target text\n",
      "jamo not found in target text\n",
      "jamo not found in target text\n",
      "jamo not found in target text\n",
      "jamo not found in target text\n",
      "jamo not found in target text\n",
      "jamo not found in target text\n"
     ]
    },
    {
     "name": "stderr",
     "output_type": "stream",
     "text": [
      " 99%|█████████▉| 1448/1464 [00:12<00:00, 125.90it/s]"
     ]
    },
    {
     "name": "stdout",
     "output_type": "stream",
     "text": [
      "jamo not found in target text\n",
      "jamo not found in target text\n",
      "jamo not found in target text\n",
      "jamo not found in target text\n",
      "jamo not found in target text\n",
      "jamo not found in target text\n",
      "jamo not found in target text\n",
      "jamo not found in target text\n",
      "jamo not found in target text\n",
      "jamo not found in target text\n"
     ]
    },
    {
     "name": "stderr",
     "output_type": "stream",
     "text": [
      "100%|██████████| 1464/1464 [00:12<00:00, 116.04it/s]"
     ]
    },
    {
     "name": "stdout",
     "output_type": "stream",
     "text": [
      "jamo not found in target text\n",
      "jamo not found in target text\n",
      "jamo not found in target text\n",
      "jamo not found in target text\n",
      "jamo not found in target text\n",
      "mixed audio saved to  /data/selinawisco/phoneme_mixing/mixed_test_fold_0\n",
      "mixed audio CSV saved to  /data/selinawisco/phoneme_mixing/mixed_test_fold_0/test_fold_0.csv\n"
     ]
    },
    {
     "name": "stderr",
     "output_type": "stream",
     "text": [
      "\n"
     ]
    }
   ],
   "source": [
    "# 발음 틀린 음성만 생성하기\n",
    "wdf = wdf[wdf['new_label']==1]\n",
    "# wdf = wdf.head(5) \n",
    "tqdm.pandas()\n",
    "\n",
    "csv_used_name = pathlib.Path(orig_data).stem\n",
    "print(\"CSV used to generate: \", csv_used_name)\n",
    "\n",
    "# 음성 저장할 경로\n",
    "output_dir = f\"/data/selinawisco/phoneme_mixing/mixed_{csv_used_name}\"\n",
    "mixed_data_all = list(chain.from_iterable(\n",
    "    wdf.progress_apply(lambda row: phoneme_mixing(df, row['human_text'], row['target_text'], output_dir=output_dir), axis=1)\n",
    "))\n",
    "print(\"mixed audio saved to \", output_dir)\n",
    "\n",
    "mixed_df = pd.DataFrame(mixed_data_all)\n",
    "mixed_df.to_csv(f'{output_dir}/{csv_used_name}.csv', index=False)\n",
    "\n",
    "print(\"mixed audio CSV saved to \", f'{output_dir}/{csv_used_name}.csv')"
   ]
  },
  {
   "cell_type": "code",
   "execution_count": null,
   "id": "ccfa7b5b",
   "metadata": {},
   "outputs": [
    {
     "data": {
      "text/plain": [
       "[{'audio': './phoneme_mixing/phoneme_mixing_|ᄒ|ᅩ|ᄅ|ᅡ|ᆼ|ᄋ|ᅵ|.wav',\n",
       "  'target_text': '호랑이',\n",
       "  'human_text': '|ᄒ|ᅩ|ᄅ|ᅡ|ᆼ|ᄋ|ᅵ|'}]"
      ]
     },
     "execution_count": 76,
     "metadata": {},
     "output_type": "execute_result"
    }
   ],
   "source": [
    "# # sample run: 데이터셋에 없는 텍스트 만들어보기\n",
    "# phoneme_mixing(df, input_text=\"호랑이\",target_text= \"호랑이\", output_dir=\"./phoneme_mixing\")\n"
   ]
  },
  {
   "cell_type": "markdown",
   "id": "62e71434",
   "metadata": {},
   "source": [
    "기존 train file 과 병합"
   ]
  },
  {
   "cell_type": "code",
   "execution_count": 121,
   "id": "ef1fc945",
   "metadata": {},
   "outputs": [],
   "source": [
    "# fold 0 train + mixed 합치기\n",
    "mixed = pd.read_csv(f'/data/selinawisco/phoneme_mixing/mixed_test_fold_{fold}/test_fold_{fold}.csv')\n",
    "orig_train = pd.read_csv(f'/data/selinawisco/kochild/five_fold_datasets/test_fold_{fold}_train.csv')"
   ]
  },
  {
   "cell_type": "code",
   "execution_count": 122,
   "id": "db400e6c",
   "metadata": {},
   "outputs": [
    {
     "data": {
      "text/plain": [
       "Index(['audio', 'disease_type', 'age', 'gender', 'subgroup', 'id',\n",
       "       'textgrid_text', 'target_text', 'human_text', 'asr_text',\n",
       "       'target_text_jamo', 'human_text_jamo', 'new_label'],\n",
       "      dtype='object')"
      ]
     },
     "execution_count": 122,
     "metadata": {},
     "output_type": "execute_result"
    }
   ],
   "source": [
    "orig_train.columns"
   ]
  },
  {
   "cell_type": "code",
   "execution_count": 123,
   "id": "c503d203",
   "metadata": {},
   "outputs": [
    {
     "data": {
      "text/plain": [
       "Index(['audio', 'target_text', 'human_text', 'human_text_decomposed'], dtype='object')"
      ]
     },
     "execution_count": 123,
     "metadata": {},
     "output_type": "execute_result"
    }
   ],
   "source": [
    "mixed.columns"
   ]
  },
  {
   "cell_type": "code",
   "execution_count": 124,
   "id": "b91356d3",
   "metadata": {},
   "outputs": [],
   "source": [
    "orig_train = orig_train.drop(columns=['disease_type', 'age', 'gender', 'subgroup', 'id',\n",
    "       'textgrid_text', 'asr_text',\n",
    "       'target_text_jamo', 'new_label'])"
   ]
  },
  {
   "cell_type": "code",
   "execution_count": 125,
   "id": "09c7c9b2",
   "metadata": {},
   "outputs": [],
   "source": [
    "mixed = mixed.drop(columns=[\"human_text_decomposed\"])\n",
    "mixed['human_text_jamo'] = mixed['human_text'].apply(hangul_jamo.decompose)"
   ]
  },
  {
   "cell_type": "code",
   "execution_count": 126,
   "id": "3b5e7102",
   "metadata": {},
   "outputs": [
    {
     "data": {
      "text/html": [
       "<div>\n",
       "<style scoped>\n",
       "    .dataframe tbody tr th:only-of-type {\n",
       "        vertical-align: middle;\n",
       "    }\n",
       "\n",
       "    .dataframe tbody tr th {\n",
       "        vertical-align: top;\n",
       "    }\n",
       "\n",
       "    .dataframe thead th {\n",
       "        text-align: right;\n",
       "    }\n",
       "</style>\n",
       "<table border=\"1\" class=\"dataframe\">\n",
       "  <thead>\n",
       "    <tr style=\"text-align: right;\">\n",
       "      <th></th>\n",
       "      <th>audio</th>\n",
       "      <th>target_text</th>\n",
       "      <th>human_text</th>\n",
       "      <th>human_text_jamo</th>\n",
       "    </tr>\n",
       "  </thead>\n",
       "  <tbody>\n",
       "    <tr>\n",
       "      <th>0</th>\n",
       "      <td>/data/selinawisco/phoneme_mixing/mixed_test_fo...</td>\n",
       "      <td>토끼</td>\n",
       "      <td>토키</td>\n",
       "      <td>ㅌㅗㅋㅣ</td>\n",
       "    </tr>\n",
       "    <tr>\n",
       "      <th>1</th>\n",
       "      <td>/data/selinawisco/phoneme_mixing/mixed_test_fo...</td>\n",
       "      <td>눈사람</td>\n",
       "      <td>눈싸라</td>\n",
       "      <td>ㄴㅜㄴㅆㅏㄹㅏ</td>\n",
       "    </tr>\n",
       "    <tr>\n",
       "      <th>2</th>\n",
       "      <td>/data/selinawisco/phoneme_mixing/mixed_test_fo...</td>\n",
       "      <td>색종이</td>\n",
       "      <td>책쫑이</td>\n",
       "      <td>ㅊㅐㄱㅉㅗㅇㅇㅣ</td>\n",
       "    </tr>\n",
       "    <tr>\n",
       "      <th>3</th>\n",
       "      <td>/data/selinawisco/phoneme_mixing/mixed_test_fo...</td>\n",
       "      <td>햄버거</td>\n",
       "      <td>샘버거</td>\n",
       "      <td>ㅅㅐㅁㅂㅓㄱㅓ</td>\n",
       "    </tr>\n",
       "    <tr>\n",
       "      <th>4</th>\n",
       "      <td>/data/selinawisco/phoneme_mixing/mixed_test_fo...</td>\n",
       "      <td>뱀</td>\n",
       "      <td>배</td>\n",
       "      <td>ㅂㅐ</td>\n",
       "    </tr>\n",
       "    <tr>\n",
       "      <th>...</th>\n",
       "      <td>...</td>\n",
       "      <td>...</td>\n",
       "      <td>...</td>\n",
       "      <td>...</td>\n",
       "    </tr>\n",
       "    <tr>\n",
       "      <th>1459</th>\n",
       "      <td>/data/selinawisco/phoneme_mixing/mixed_test_fo...</td>\n",
       "      <td>크레파스</td>\n",
       "      <td>크에파치</td>\n",
       "      <td>ㅋㅡㅇㅔㅍㅏㅊㅣ</td>\n",
       "    </tr>\n",
       "    <tr>\n",
       "      <th>1460</th>\n",
       "      <td>/data/selinawisco/phoneme_mixing/mixed_test_fo...</td>\n",
       "      <td>미끄럼틀</td>\n",
       "      <td>미끄염틀</td>\n",
       "      <td>ㅁㅣㄲㅡㅇㅕㅁㅌㅡㄹ</td>\n",
       "    </tr>\n",
       "    <tr>\n",
       "      <th>1461</th>\n",
       "      <td>/data/selinawisco/phoneme_mixing/mixed_test_fo...</td>\n",
       "      <td>쌀</td>\n",
       "      <td>짤</td>\n",
       "      <td>ㅉㅏㄹ</td>\n",
       "    </tr>\n",
       "    <tr>\n",
       "      <th>1462</th>\n",
       "      <td>/data/selinawisco/phoneme_mixing/mixed_test_fo...</td>\n",
       "      <td>풍선</td>\n",
       "      <td>풍천</td>\n",
       "      <td>ㅍㅜㅇㅊㅓㄴ</td>\n",
       "    </tr>\n",
       "    <tr>\n",
       "      <th>1463</th>\n",
       "      <td>/data/selinawisco/phoneme_mixing/mixed_test_fo...</td>\n",
       "      <td>할아버지</td>\n",
       "      <td>하야버지</td>\n",
       "      <td>ㅎㅏㅇㅑㅂㅓㅈㅣ</td>\n",
       "    </tr>\n",
       "  </tbody>\n",
       "</table>\n",
       "<p>1464 rows × 4 columns</p>\n",
       "</div>"
      ],
      "text/plain": [
       "                                                  audio target_text  \\\n",
       "0     /data/selinawisco/phoneme_mixing/mixed_test_fo...          토끼   \n",
       "1     /data/selinawisco/phoneme_mixing/mixed_test_fo...         눈사람   \n",
       "2     /data/selinawisco/phoneme_mixing/mixed_test_fo...         색종이   \n",
       "3     /data/selinawisco/phoneme_mixing/mixed_test_fo...         햄버거   \n",
       "4     /data/selinawisco/phoneme_mixing/mixed_test_fo...           뱀   \n",
       "...                                                 ...         ...   \n",
       "1459  /data/selinawisco/phoneme_mixing/mixed_test_fo...        크레파스   \n",
       "1460  /data/selinawisco/phoneme_mixing/mixed_test_fo...        미끄럼틀   \n",
       "1461  /data/selinawisco/phoneme_mixing/mixed_test_fo...           쌀   \n",
       "1462  /data/selinawisco/phoneme_mixing/mixed_test_fo...          풍선   \n",
       "1463  /data/selinawisco/phoneme_mixing/mixed_test_fo...        할아버지   \n",
       "\n",
       "     human_text human_text_jamo  \n",
       "0            토키            ㅌㅗㅋㅣ  \n",
       "1           눈싸라         ㄴㅜㄴㅆㅏㄹㅏ  \n",
       "2           책쫑이        ㅊㅐㄱㅉㅗㅇㅇㅣ  \n",
       "3           샘버거         ㅅㅐㅁㅂㅓㄱㅓ  \n",
       "4             배              ㅂㅐ  \n",
       "...         ...             ...  \n",
       "1459       크에파치        ㅋㅡㅇㅔㅍㅏㅊㅣ  \n",
       "1460       미끄염틀      ㅁㅣㄲㅡㅇㅕㅁㅌㅡㄹ  \n",
       "1461          짤             ㅉㅏㄹ  \n",
       "1462         풍천          ㅍㅜㅇㅊㅓㄴ  \n",
       "1463       하야버지        ㅎㅏㅇㅑㅂㅓㅈㅣ  \n",
       "\n",
       "[1464 rows x 4 columns]"
      ]
     },
     "execution_count": 126,
     "metadata": {},
     "output_type": "execute_result"
    }
   ],
   "source": [
    "mixed"
   ]
  },
  {
   "cell_type": "code",
   "execution_count": 127,
   "id": "0f468c6c",
   "metadata": {},
   "outputs": [
    {
     "data": {
      "text/html": [
       "<div>\n",
       "<style scoped>\n",
       "    .dataframe tbody tr th:only-of-type {\n",
       "        vertical-align: middle;\n",
       "    }\n",
       "\n",
       "    .dataframe tbody tr th {\n",
       "        vertical-align: top;\n",
       "    }\n",
       "\n",
       "    .dataframe thead th {\n",
       "        text-align: right;\n",
       "    }\n",
       "</style>\n",
       "<table border=\"1\" class=\"dataframe\">\n",
       "  <thead>\n",
       "    <tr style=\"text-align: right;\">\n",
       "      <th></th>\n",
       "      <th>audio</th>\n",
       "      <th>target_text</th>\n",
       "      <th>human_text</th>\n",
       "      <th>human_text_jamo</th>\n",
       "    </tr>\n",
       "  </thead>\n",
       "  <tbody>\n",
       "    <tr>\n",
       "      <th>0</th>\n",
       "      <td>/data/selinawisco/kochild/APAC/일반아동/일반_clear/1...</td>\n",
       "      <td>빨대</td>\n",
       "      <td>빨대</td>\n",
       "      <td>ㅃㅏㄹㄷㅐ</td>\n",
       "    </tr>\n",
       "    <tr>\n",
       "      <th>1</th>\n",
       "      <td>/data/selinawisco/kochild/APAC/일반아동/일반_clear/1...</td>\n",
       "      <td>사탕</td>\n",
       "      <td>사탕</td>\n",
       "      <td>ㅅㅏㅌㅏㅇ</td>\n",
       "    </tr>\n",
       "    <tr>\n",
       "      <th>2</th>\n",
       "      <td>/data/selinawisco/kochild/APAC/일반아동/일반_clear/1...</td>\n",
       "      <td>침대</td>\n",
       "      <td>침대</td>\n",
       "      <td>ㅊㅣㅁㄷㅐ</td>\n",
       "    </tr>\n",
       "    <tr>\n",
       "      <th>3</th>\n",
       "      <td>/data/selinawisco/kochild/APAC/일반아동/일반_clear/1...</td>\n",
       "      <td>꽃</td>\n",
       "      <td>꽃</td>\n",
       "      <td>ㄲㅗㅊ</td>\n",
       "    </tr>\n",
       "    <tr>\n",
       "      <th>4</th>\n",
       "      <td>/data/selinawisco/kochild/APAC/일반아동/일반_clear/1...</td>\n",
       "      <td>바퀴</td>\n",
       "      <td>바퀴</td>\n",
       "      <td>ㅂㅏㅋㅟ</td>\n",
       "    </tr>\n",
       "    <tr>\n",
       "      <th>...</th>\n",
       "      <td>...</td>\n",
       "      <td>...</td>\n",
       "      <td>...</td>\n",
       "      <td>...</td>\n",
       "    </tr>\n",
       "    <tr>\n",
       "      <th>16939</th>\n",
       "      <td>/data/selinawisco/kochild/K_APP/구개열아동/KAPP낱말/2...</td>\n",
       "      <td>눈</td>\n",
       "      <td>뉴</td>\n",
       "      <td>ㄴㅠ</td>\n",
       "    </tr>\n",
       "    <tr>\n",
       "      <th>16940</th>\n",
       "      <td>/data/selinawisco/kochild/K_APP/구개열아동/KAPP낱말/2...</td>\n",
       "      <td>쨈</td>\n",
       "      <td>떄이</td>\n",
       "      <td>ㄸㅒㅇㅣ</td>\n",
       "    </tr>\n",
       "    <tr>\n",
       "      <th>16941</th>\n",
       "      <td>/data/selinawisco/kochild/K_APP/구개열아동/KAPP낱말/2...</td>\n",
       "      <td>쨈</td>\n",
       "      <td>떄이</td>\n",
       "      <td>ㄸㅒㅇㅣ</td>\n",
       "    </tr>\n",
       "    <tr>\n",
       "      <th>16942</th>\n",
       "      <td>/data/selinawisco/kochild/K_APP/구개열아동/KAPP낱말/2...</td>\n",
       "      <td>총</td>\n",
       "      <td>툥</td>\n",
       "      <td>ㅌㅛㅇ</td>\n",
       "    </tr>\n",
       "    <tr>\n",
       "      <th>16943</th>\n",
       "      <td>/data/selinawisco/kochild/K_APP/구개열아동/KAPP낱말/2...</td>\n",
       "      <td>똥</td>\n",
       "      <td>녀</td>\n",
       "      <td>ㄴㅕ</td>\n",
       "    </tr>\n",
       "  </tbody>\n",
       "</table>\n",
       "<p>16944 rows × 4 columns</p>\n",
       "</div>"
      ],
      "text/plain": [
       "                                                   audio target_text  \\\n",
       "0      /data/selinawisco/kochild/APAC/일반아동/일반_clear/1...          빨대   \n",
       "1      /data/selinawisco/kochild/APAC/일반아동/일반_clear/1...          사탕   \n",
       "2      /data/selinawisco/kochild/APAC/일반아동/일반_clear/1...          침대   \n",
       "3      /data/selinawisco/kochild/APAC/일반아동/일반_clear/1...           꽃   \n",
       "4      /data/selinawisco/kochild/APAC/일반아동/일반_clear/1...          바퀴   \n",
       "...                                                  ...         ...   \n",
       "16939  /data/selinawisco/kochild/K_APP/구개열아동/KAPP낱말/2...           눈   \n",
       "16940  /data/selinawisco/kochild/K_APP/구개열아동/KAPP낱말/2...           쨈   \n",
       "16941  /data/selinawisco/kochild/K_APP/구개열아동/KAPP낱말/2...           쨈   \n",
       "16942  /data/selinawisco/kochild/K_APP/구개열아동/KAPP낱말/2...           총   \n",
       "16943  /data/selinawisco/kochild/K_APP/구개열아동/KAPP낱말/2...           똥   \n",
       "\n",
       "      human_text human_text_jamo  \n",
       "0             빨대           ㅃㅏㄹㄷㅐ  \n",
       "1             사탕           ㅅㅏㅌㅏㅇ  \n",
       "2             침대           ㅊㅣㅁㄷㅐ  \n",
       "3              꽃             ㄲㅗㅊ  \n",
       "4             바퀴            ㅂㅏㅋㅟ  \n",
       "...          ...             ...  \n",
       "16939          뉴              ㄴㅠ  \n",
       "16940         떄이            ㄸㅒㅇㅣ  \n",
       "16941         떄이            ㄸㅒㅇㅣ  \n",
       "16942          툥             ㅌㅛㅇ  \n",
       "16943          녀              ㄴㅕ  \n",
       "\n",
       "[16944 rows x 4 columns]"
      ]
     },
     "execution_count": 127,
     "metadata": {},
     "output_type": "execute_result"
    }
   ],
   "source": [
    "orig_train"
   ]
  },
  {
   "cell_type": "code",
   "execution_count": 128,
   "id": "70ee51d3",
   "metadata": {},
   "outputs": [],
   "source": [
    "augmented = pd.concat([orig_train, mixed])\n",
    "augmented # 1464 + 16944\n",
    "\n",
    "augmented.to_csv('/data/selinawisco/kochild/five_fold_datasets_with_phoneme_mixing/train_fold_0_and_mixed.csv', index=False)"
   ]
  }
 ],
 "metadata": {
  "kernelspec": {
   "display_name": "asr",
   "language": "python",
   "name": "python3"
  },
  "language_info": {
   "codemirror_mode": {
    "name": "ipython",
    "version": 3
   },
   "file_extension": ".py",
   "mimetype": "text/x-python",
   "name": "python",
   "nbconvert_exporter": "python",
   "pygments_lexer": "ipython3",
   "version": "3.10.14"
  }
 },
 "nbformat": 4,
 "nbformat_minor": 5
}
